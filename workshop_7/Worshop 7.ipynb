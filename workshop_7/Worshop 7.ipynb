version https://git-lfs.github.com/spec/v1
oid sha256:5a1fe49810774bd84afb36f211c880a774a9c453c514c0e7e80d2c3a085acf97
size 278714
