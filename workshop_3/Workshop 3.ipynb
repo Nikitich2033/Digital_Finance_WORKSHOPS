version https://git-lfs.github.com/spec/v1
oid sha256:2d429e85e1d162a7373c9e8169a4707504c581d69724d30e756ba7c719a47eea
size 1213314
