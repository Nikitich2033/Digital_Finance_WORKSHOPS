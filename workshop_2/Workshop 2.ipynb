version https://git-lfs.github.com/spec/v1
oid sha256:06526993cd6b148561e1db8258021767eca8627ffab810f16e2b6e097bd96c0b
size 255780
