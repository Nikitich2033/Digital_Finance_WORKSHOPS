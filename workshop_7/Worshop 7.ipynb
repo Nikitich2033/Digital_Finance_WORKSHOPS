version https://git-lfs.github.com/spec/v1
oid sha256:f3de3881381955cdbcc75b3b3e77fe766efb0bfd581d0170fd40967e2c4f1105
size 278755
