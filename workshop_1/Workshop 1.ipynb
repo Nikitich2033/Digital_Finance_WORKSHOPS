{
 "cells": [
  {
   "cell_type": "markdown",
   "metadata": {},
   "source": [
    "# UCL\n",
    "\n",
    "## COMP0164 Digital Finance\n",
    "\n",
    "## Workshop 1: Introduction to Python"
   ]
  },
  {
   "cell_type": "markdown",
   "metadata": {},
   "source": [
    "# Table of Contents\n",
    "* [1. Introduction](#1.-Introduction)\n",
    "    * [1.1 General Background](#1.1-General-Background)\n",
    "    * [1.2 Notebook Highlighting](#1.2-Notebook-Highlighting)\n",
    "    * [1.3 Installation Process](#1.3-Installation-Process)\n",
    "        * [1.3.1 VSCode Installation](#1.3.1-VSCode-Installation)\n",
    "        * [1.3.2 Python Installation](#1.3.2-Python-Installation)\n",
    "        * [1.3.3 Downloading Course Materials](#1.3.3-Downloading-Course-Materials)\n",
    "        * [1.3.4 Creating Virtual Environment (Optional)](#1.3.4-Creating-Virtual-Environment-(Optional))\n",
    "        * [1.3.5 Installing Python Dependencies for the COurse](#1.3.5-Installing-Python-Dependencies-for-the-Course)\n",
    "    * [1.4 Cheatsheets](#1.4-Cheatsheets)\n",
    "        * [1.4.1 Jupyter Notebook Cheatsheet](#1.4.1-Jupyter-Notebook-Cheatsheet)\n",
    "        * [1.4.2 VSCode Cheatsheet](#1.4.2-VSCode-Cheatsheet)\n",
    "    * [1.5 Documentations](#1.5-Documentations)\n",
    "* [2. Introduction to Python](#2.-Introduction-to-Python)\n",
    "    * [2.1 Python Conventions](#2.1-Python-Conventions)\n",
    "    * [2.2 Data Types](#2.2-Data-Types)\n",
    "        * [2.2.1 Strings](#2.2.1-Strings)\n",
    "        * [2.2.2 Integers](#2.2.2-Integers)\n",
    "        * [2.2.3 Floats](#2.2.3-Floats)\n",
    "        * [2.2.4 Non-matching Data Types](#2.2.4-Unmatching-Data-Types)\n",
    "        * [2.2.5 Type Safety and Type Hinting](#2.2.5-Type-Safety-and-Type-Hinting)\n",
    "        * [2.2.6 Numerical Errors](#2.2.6-Numerical-Errors)\n",
    "        * [2.2.7 Check Data Type](#2.2.7-Check-Data-Type)\n",
    "        * [2.2.8 Type Conversion](#2.2.8-Type-Conversion)\n",
    "        * [2.2.9 Data Types: Exercises](#2.2.9-Data-Types:-Exercises)\n",
    "    * [2.3 Simple Operations](#2.3-Simple-Operations)\n",
    "        * [2.3.1 Assignment Operations](#2.3.1-Assignment-Operations)\n",
    "        * [2.3.2 String Operations](#2.3.2-String-Operations)\n",
    "        * [2.3.3 Basic Mathematical Operations](#2.3.3-Basic-Mathematical-Operations)\n",
    "        * [2.3.4 Input-Output Operations (IO Operations)](#2.3.4-Input-Output-Operations-(IO-Operations))\n",
    "        * [2.3.5 Comparioson Operators](#2.3.5-Comparison-Operators)\n",
    "        * [2.3.6 Conditional Expressions](#2.3.6-Conditional-Expressions)\n",
    "        * [2.3.7 Logical Operators](#2.3.7-Logical-Operators)\n",
    "        * [2.3.8 Operation Precedence](#2.3.8-Operation-Precedence)\n",
    "        * [2.3.9 Simple Operations: Exercises](#2.3.9-Simple-Operations:-Exercises)\n",
    "    * [2.4 Loop](#2.4-Loops)\n",
    "        * [2.4.1 While Loops](#2.4.1-`while`-Loops)\n",
    "        * [2.4.2 For Loops](#2.4.2-`for`-Loops)\n",
    "        * [2.4.3 Breaking and Continuing the Loop](#2.4.3-Breaking-and-Continuing-the-Loop)\n",
    "        * [2.4.4 Loops: Exercises](#2.4.4-Loops:-Exercises)\n",
    "    * [2.5 Functions](#2.5-Functions)\n",
    "        * [2.5.1 Examples of Common Functions](#2.5.1-Examples-of-Common-Functions)\n",
    "        * [2.5.1 Functions: Exercises](#2.5.2-Functions:-Exercises)\n",
    "    * [2.6 Scope](#2.6-Scope)\n",
    "    * [2.7 Modules](#2.7-Modules)\n",
    "        * [2.7.1 Modules: Exercises](#2.7.1-Modules:-Exercises)\n",
    "    * [2.8 Standard Library](#2.8-Standard-Library)\n",
    "    * [2.9 Data Structures amd Indexing](#2.9-Data-Structures-and-Indexing)\n",
    "        * [2.9.1 Lists](#2.9.1-Lists)\n",
    "        * [2.9.2 Dictionaries](#2.9.2-Dictionaries)\n",
    "        * [2.9.3 Tuples](#2.9.3-Tuples)\n",
    "        * [2.9.4 NumPy Arrays](#2.9.4-NumPy-Arrays)\n",
    "        * [2.9.5 Data Structures and Indexing: Exercises](#2.9.5-Data-Structures-and-Indexing:-Exercises)\n",
    "    * [2.10 List Comprehension](#2.10-List-Comprehension)\n",
    "        * [2.10.1 In Operator](#2.10.1-`in`-Operator)\n",
    "        * [2.10.2 List Comprehension: Exercises](#2.10.2-List-Comprehension:-Exercises)\n",
    "    * [2.11 Exceptions and Error Handling](#2.11-Exceptions-and-Error-Handling)\n",
    "        * [2.11.1 Error Handling](#2.11.1-Error-Handling)\n",
    "        * [2.11.2 Exceptions and Error Handling: Exercises](#2.11.2-Exceptions-and-Error-Handling:-Exercises)\n",
    "    * [2.12 Working with Files](#2.12-Working-with-Files)\n",
    "        * [2.12.1 Working with Text Files](#2.12.1-Working-with-Text-Files)\n",
    "        * [2.12.2 Working with CSV Files](#2.12.2-Working-with-CSV-Files)\n",
    "* [3. Time Value of Money](#3.-Time-Value-of-Money)\n",
    "    * [3.1 Time Value of Money: Exercises](#3.1-Time-Value-of-Money:-Exercises)\n",
    "        * [3.1.1 NPV Calculation](#3.1.1-`NPV`-Calculation)\n",
    "        * [3.1.2 IRR Calculation](#3.2.1-`IRR`-Calculation)\n",
    "    * [3.2 Time Value of Money: Additional Exercises](#3.2-Time-Value-of-Money:-Additional-Exercises)"
   ]
  },
  {
   "cell_type": "markdown",
   "metadata": {},
   "source": [
    "# 1. Introduction\n",
    "\n",
    "These workshops will enable you to start, and progress the development of, your programming skills.\n",
    "\n",
    "This course is...\n",
    "- Not an exhaustive programming class (this will give you progamming skills, not teach you to be a programmer)\n",
    "- Not a pure programming class (lots of practice with practical algorithm examples)\n",
    "\n",
    "The purpose of this workshops is to be a gentle introduction to learn the basics of Python, including writing some basic commands, understanding object types, and some simple operations. Finally, use this knowledge to do simple financial analysis, apply machine learning in finance setting and understand how general financial algorithms are designed."
   ]
  },
  {
   "cell_type": "markdown",
   "metadata": {},
   "source": [
    "## 1.1 General Background\n",
    "\n",
    "**`Python`** is a high-level programming language, with applications in numerous areas, including machine learning, web development, and scientific computing. We have chosen it for its versatility and ease of use, from scripting experiments all the way to use in production software.\n",
    "\n",
    "However, we also must acknowledge that **`Python`** is <mark>not type safe</mark>, relatively <mark>slow</mark>, and offers <mark>no low-level memory control</mark>. Because of this, **`Python`** should not be used in applications where performance and dependability are crucial (e.g., stock exchanges, life support systems).\n",
    "\n",
    "**`Python`** is great for developing <mark>system prototypes</mark> and working with data where processing speed is not a priority.\n",
    "\n",
    "**`Python`** is processed at runtime by the interpreter. There is no need to compile your program before executing it - if you don't really understand what this means don't worry about it at this stage.\n",
    "\n",
    "An **interpreter** is a program that runs scripts written in an interpreted language."
   ]
  },
  {
   "cell_type": "markdown",
   "metadata": {},
   "source": [
    "Another great reason to learn **`Python`** is the new programming language **`Mojo`** that was released in May 2023.\n",
    "\n",
    "**`Mojo`** is a superset of **`Python`**, meaning that all that you can use your **`Python`** knowledge to write programs in **`Mojo`** which offers much faster runtimes (up to $\\times$ 35,000) and a lot of other features. If you are interested in **`Mojo`** follow the link: [Modular Website](https://www.modular.com/mojo)."
   ]
  },
  {
   "cell_type": "markdown",
   "metadata": {},
   "source": [
    "In this course we will be using the combination of **`Jupyter Notebooks`** and **`Python`** scripts.\n",
    "\n",
    "This is a **`Jupyter Notebook`**. It is a great environment to study and experiment with **`Python`**'s functionality.\n",
    "\n",
    "We will be using **`VSCode`** as our editor, but if you have a preferred editor or IDE you can use it instead."
   ]
  },
  {
   "cell_type": "markdown",
   "metadata": {},
   "source": [
    "# 1.2 Notebook Highlighting\n",
    "\n",
    "Blocks of coloured text like those below will be used to highlight specific points. This will be used be useful when it comes to coursework!"
   ]
  },
  {
   "cell_type": "markdown",
   "metadata": {},
   "source": [
    "<br>\n",
    "<div class=\"alert alert-success\">\n",
    "<b>TIP: </b> Tips will appear in boxes like this. </div>\n",
    "\n",
    "<br>\n",
    "<div class=\"alert alert-warning\">\n",
    "<b>ACTION:</b> If you need to do something, instructions will appear in a box like this \n",
    "\n",
    "</div>\n",
    "\n",
    "<br>\n",
    "<div class=\"alert alert-info\">\n",
    "<b>HINT:</b>  Something that might make your life easier!\n",
    "\n",
    "</div>\n",
    "\n",
    "<br>\n",
    "<div class=\"alert alert-danger\">\n",
    "<b>WARNING: </b> Pay attention!</div>"
   ]
  },
  {
   "cell_type": "markdown",
   "metadata": {},
   "source": [
    "## 1.3 Installation Process\n",
    "\n",
    "In this section we will go over the installation process for **`Python`**, **`VSCode`** and all libraries that we will use in the course."
   ]
  },
  {
   "cell_type": "markdown",
   "metadata": {},
   "source": [
    "### 1.3.1 VSCode Installation\n",
    "\n",
    "**`VSCode`** is a rich tex editor meaning it can be used to create and edit files from different programming languages.\n",
    "\n",
    "To install **`VSCode`** please use the link:\n",
    "[https://code.visualstudio.com/download](https://code.visualstudio.com/download)"
   ]
  },
  {
   "cell_type": "markdown",
   "metadata": {},
   "source": [
    "<div class=\"alert alert-danger\">\n",
    "<b>WARNING: </b>\n",
    "\n",
    "VSCode is an open-core Microsoft software. This means that despite the main code for VSCode is open for anyone to see, there are parts of it that are not disclosed. In general it is a good practice to check licences and agreements for the software you use, in particular if you are working on a start-up or your own proprietary software. In this course we will be using software that we are permitted to by their licences, so you are off the hook this time!\n",
    "</div>"
   ]
  },
  {
   "cell_type": "markdown",
   "metadata": {},
   "source": [
    "If you would like to use a different IDE or text editor, below are some good options:\n",
    "- **`VSCodium`**: [https://vscodium.com/](https://vscodium.com/) (Open binaries of **`VSCode`**)\n",
    "- **`NeoVim`**: [https://neovim.io/](https://neovim.io/) (Great option for more experienced developers)\n",
    "- **`Vim`**: [https://www.vim.org/download.php](https://www.vim.org/download.php) ([Did you mean Emacs?](https://www.google.com/search?sca_esv=563841496&rlz=1C1VDKB_en-GBGB934GB934&sxsrf=AB5stBips1b2oBCuyQFpI7qqInMd9CNpMQ:1694210723802&q=vi&spell=1&sa=X&ved=2ahUKEwixrPfigpyBAxWCQkEAHYQHCO0QBSgAegQICBAB&cshid=1694210893938138&biw=1526&bih=767&dpr=1.88))\n",
    "- **`Emacs`**: [https://www.gnu.org/software/emacs/download.html](https://www.gnu.org/software/emacs/download.html) ([Did you mean Vim?](https://www.google.com/search?sca_esv=563841496&rlz=1C1VDKB_en-GBGB934GB934&sxsrf=AB5stBifDnjEU_3lH3lCq6u9TOwXhQ26WA:1694210903288&q=emacs&spell=1&sa=X&ved=2ahUKEwiCqcK4g5yBAxUZXEEAHcFED58QBSgAegQICRAB&biw=1526&bih=767&dpr=1.88))"
   ]
  },
  {
   "cell_type": "markdown",
   "metadata": {},
   "source": [
    "**`VSCode`** offers convenient tools that we can use to simplify our development process, which come in the form of extensions.\n",
    "\n",
    "Please install the following extensions inside your **`VSCode`**:\n",
    "\n",
    "- **`Pylance`** by <i>Microsoft</i>\n",
    "- **`Jupyter`** by <i>Microsoft</i>\n",
    "- **`Jupyter Cell Tags`** by <i>Microsoft</i>\n",
    "- **`Jupyter Keymap`** by <i>Microsoft</i>\n",
    "- **`Jupyter Notebook Renderers`** by <i>Microsoft</i>\n",
    "- **`Jupyter Slide Show`** by <i>Microsoft</i>\n",
    "- **`GitHub Pull Requests and Issues`** by <i>GitHub</i>"
   ]
  },
  {
   "cell_type": "markdown",
   "metadata": {},
   "source": [
    "<br>\n",
    "<div class=\"alert alert-success\">\n",
    "<b>TIP: </b>\n",
    "If you are using VSCodium you should be able to install the same extensions there as well.\n",
    "</div>"
   ]
  },
  {
   "cell_type": "markdown",
   "metadata": {},
   "source": [
    "### 1.3.2 Downloading Course Materials\n",
    "\n",
    "Now, create a folder called **`Digital Finance`**, we will store all the course materials here.\n",
    "\n",
    "Then go to the **`Moodle`** page of this course and download the materials for this week (folder with **`Jupyter Notebook`** and `requirements.txt` file)."
   ]
  },
  {
   "cell_type": "markdown",
   "metadata": {},
   "source": [
    "### 1.3.3 Python Installation\n",
    "\n",
    "<div class=\"alert alert-danger\">\n",
    "<b>WARNING: </b>\n",
    "\n",
    "If you don't mind using **Anaconda** as your **Python** distribution, you can skip to the next section where we install **Anaconda**.\n",
    "</div>\n",
    "\n",
    "**`Python`** is a very popular language and most modern day computers have it by default.\n",
    "\n",
    "Now let's check whether your computer has **`Python`** pre-installed. We will be using your computer's terminal (e.g., **`cmd`**, **`shell`**, **`bash`**) to run commands below.\n",
    "\n",
    "For **`Windows`** (use **`Command Prompt`**, else known as **`cmd`**):\n",
    "> python --version\n",
    "\n",
    "For **`Mac`** and **`Linux`** (use **`bash`** terminal):\n",
    "> python3 --version\n",
    "\n",
    "The output should be something like this:\n",
    "> Python 3.8.16\n",
    "\n",
    "If your **`Python `** version is older than **`Python 3.1`** please follow the link and install a newer version: [https://www.python.org/downloads/](https://www.python.org/downloads/)."
   ]
  },
  {
   "cell_type": "markdown",
   "metadata": {},
   "source": [
    "You also need to verify that you have access to **`pip`**, which is a package manager for **`Python`**. The purpose of **`pip`** is to download libraries and frameworks availabale in **`Python`**.\n",
    "\n",
    "By default, every python installation should have **`pip`** installed, but you can manualy verify that it is installed.\n",
    "\n",
    "For **`Windows`**:\n",
    "> pip --version\n",
    "\n",
    "For **`Mac`** and **`Linux`**:\n",
    "> pip3 --version\n",
    "\n",
    "You should see something like:\n",
    "\n",
    "> pip 23.2.1"
   ]
  },
  {
   "cell_type": "markdown",
   "metadata": {},
   "source": [
    "### 1.3.4 Downloading Anaconda and Creating Virtual Environment (Optional)\n",
    "\n",
    "Having installed **`Python`**, we can create a **virtual environment**.\n",
    "\n",
    "As you are aware now, software may have different versions. This is true for **`Python`** and for its dependencies. If you are working on a proprietary project or designing an application - using the virual environemnt is crucial, as new versions of the dependencies you are using can break your code.\n",
    "\n",
    "A **virtual environment** is a container which allows you to control what versions of the dependencies you are using in your project (e.g., **`Python`** 3.11 and **`NumPy`** 1.24). You can add, update and delete the dependencies in your virtual environment after you have set it up.\n",
    "\n",
    "We will use **`Anaconda`** as the package and environement manager. To use **`Anaconda`** we need to install it: [https://www.anaconda.com/download#downloads](https://www.anaconda.com/download#downloads)"
   ]
  },
  {
   "cell_type": "markdown",
   "metadata": {},
   "source": [
    "Once you have downloaded and installed **`Anaconda`** you check it by running:\n",
    "\n",
    "> conda --version\n",
    "\n",
    "You should see an output like:\n",
    "\n",
    "> conda 4.12.0\n",
    "\n",
    "To set up an environment we run:\n",
    "\n",
    "> conda create -n digital_finance_env python=3.11\n",
    "\n",
    "This command will create an environment called `digital_finance_env` with **`Python`** verion `3.11`.\n",
    "\n",
    "Then we can activate or deactivate the environment using the following commands:\n",
    "\n",
    "> conda activate digital_finance_env\n",
    "\n",
    "> conda deactivate"
   ]
  },
  {
   "cell_type": "markdown",
   "metadata": {},
   "source": [
    "### 1.3.5 Installing Python Dependencies for the Course\n",
    "\n",
    "<div class=\"alert alert-success\">\n",
    "<b>TIP: </b>\n",
    "When installing the packages ensure you have activated your conda environment if you did set it up.\n",
    "</div>\n",
    "\n",
    "In this course, we will be using a couple of different **`Python`** packages.\n",
    "\n",
    "A **package** is a collection of utilities (e.g., functionc, classes and other abstractions) that we can use in our code without needing to build them ourselves. Most **`Python`** packages are open-source, but we can always check the **`PyPI`** repository where all Python packages are stored: [https://pypi.org/](https://pypi.org/)."
   ]
  },
  {
   "cell_type": "markdown",
   "metadata": {},
   "source": [
    "To install a package with the name **`python-package`** we can use **`pip`**.\n",
    "\n",
    "For **`Windows`**:\n",
    "> pip install python-package\n",
    "\n",
    "For **`Mac`** and **`Linux`**:\n",
    "> pip3 install python-package"
   ]
  },
  {
   "cell_type": "markdown",
   "metadata": {},
   "source": [
    "We can install all the needed packages from a `requirements.txt` file. To do that, navigate to the `Digital Finance` directory (i.e., inside your terminal use `cd` command to reach the `Digital Finance` folder), where you saved the `requirements.txt` file.\n",
    "\n",
    "Then, in the terminal run:\n",
    "\n",
    "> pip install -r requirements.txt\n",
    "\n",
    "This command will install all the dependencies you will need throughout the course. Alternatively, you can install packages one-by-one.\n",
    "\n",
    "Please install the following packages (you can check **`PyPI`** for their documentations and licences - [https://pypi.org/](https://pypi.org/)):\n",
    "\n",
    "- **`getFamaFrenchFactors`** (Fama-French factors for CAPM)\n",
    "- **`ipykernel`** (Enables **`Jupyter Notebook`** to run)\n",
    "- **`matplotlib`** (Plotting simple charts)\n",
    "- **`nbformat`** (Dependency of **`Plotly`**)\n",
    "- **`numpy`** (Working with vectors, matrices and other mathematical abstractions)\n",
    "- **`numpy_financial`** (Financial functions built with **`NumPy`**)\n",
    "- **`openpyxl`** (Reading and writing **`Excel`** files with **`Python`**)\n",
    "- **`pandas`** (Working with data structures)\n",
    "- **`plotly`** (Plotting interactive charts)\n",
    "- **`pyportfolioopt`** (Performing portfolio optimization)\n",
    "- **`requests`** (Working with HTTP requests)\n",
    "- **`scipy`** (Working with mathematical algorithms)\n",
    "- **`seaborn`** (Plotting more complex charts than what **`matplotlib`** allows)\n",
    "- **`scikit-learn`** (Implementing basic AI models)\n",
    "- **`statsmodels`** (Working with time series)\n",
    "- **`tensoflow`** (Designing neural networks)\n",
    "- **`yfinance`** (Downloading data from **`Yahoo Finance`**)"
   ]
  },
  {
   "cell_type": "markdown",
   "metadata": {},
   "source": [
    "<div class=\"alert alert-danger\">\n",
    "<b>WARNING: </b>\n",
    "\n",
    "When installing **TensorFlow** you might encounter an error, which requires you to use **--user** flag for the **pip** command. In this case, use the code snippet below to install **TensorFlow**:\n",
    "</div>\n",
    "\n",
    "> pip install tensorflow --user"
   ]
  },
  {
   "cell_type": "markdown",
   "metadata": {},
   "source": [
    "## 1.4 Cheatsheets"
   ]
  },
  {
   "cell_type": "markdown",
   "metadata": {},
   "source": [
    "### 1.4.1 Jupyter Notebook Cheatsheet\n",
    "\n",
    "| Command | Action |\n",
    "| --- | --- |\n",
    "| a | Add a cell above the selected cell |\n",
    "| b | Add a cell below the selected cell |\n",
    "| dd | Delte the current cell |\n",
    "| `shift`+`enter` | Run the code in the current cell |\n",
    "| m | Make the current cell Markdown (i.e., no code but text) |"
   ]
  },
  {
   "cell_type": "markdown",
   "metadata": {},
   "source": [
    "<br>\n",
    "<div class=\"alert alert-success\">\n",
    "<b>TIP: </b>To use these commands, click on the side of the Jupyter Notebook cell, such that the cell itself is not highlighted.</div>"
   ]
  },
  {
   "cell_type": "markdown",
   "metadata": {},
   "source": [
    "### 1.4.2 VSCode Cheatsheet\n",
    "\n",
    "| Command | Action |\n",
    "| --- | --- |\n",
    "| `ctrl`+`'` | Open terminal |\n",
    "| `ctrl`+`K` `ctrl`+`O` | Open folder |\n",
    "| `ctrl`+`S` | Save the current file |\n",
    "| `ctrl`+`B` | Close the EXPLORER tab |"
   ]
  },
  {
   "cell_type": "markdown",
   "metadata": {},
   "source": [
    "## 1.5 Documentations\n",
    "\n",
    "As a developer you have to know where to find the information about how to use the programming language and its packages.\n",
    "\n",
    "Below is the list of links that you can consult to find out more about specific software we use in this course.\n",
    "\n",
    "- **`Python`**: [https://docs.python.org/3/](https://docs.python.org/3/)\n",
    "- **`VSCode`**: [https://code.visualstudio.com/docs](https://code.visualstudio.com/docs)\n",
    "- **`venv`**: [https://docs.python.org/3/library/venv.html](https://docs.python.org/3/library/venv.html)\n",
    "- **`Jupyter Notebook`**: [https://docs.jupyter.org/en/latest/](https://docs.jupyter.org/en/latest/)\n",
    "- **`Packages from PyPI`**: [https://pypi.org/](https://pypi.org/)"
   ]
  },
  {
   "cell_type": "markdown",
   "metadata": {},
   "source": [
    "# 2. Introduction to Python\n",
    "\n",
    "In this section we will go over basic abstractions in **`Python`** and its conventions."
   ]
  },
  {
   "cell_type": "code",
   "execution_count": 1,
   "metadata": {},
   "outputs": [
    {
     "name": "stdout",
     "output_type": "stream",
     "text": [
      "Hello world!\n"
     ]
    }
   ],
   "source": [
    "print(\"Hello world!\")"
   ]
  },
  {
   "cell_type": "markdown",
   "metadata": {},
   "source": [
    "## 2.1 Python Conventions\n",
    "\n",
    "**`Python`** is a scripting language, so technically speaking there are places where the programmers are given the freedom of choice with regard to how structure their code. However, there are still some conventions everyone is expected to follow in order to ensure the code is clear and understandable to other developers.\n",
    "\n",
    "The following is the standard naming convention in **`Python`**:\n",
    "\n",
    "| Abstraction | Convention | Example |\n",
    "| --- | --- | --- |\n",
    "| Variable | Lower case letters with underscores | `interest_rate` |\n",
    "| Function | Lower case letters with underscores | `process_api_response` |\n",
    "| Classes | Camel case | `FinancialInstrument` |\n",
    "| Constant | Upper case with underscores | `CONSTANT_INTEREST_RATE` |\n",
    "| Comment | Starts with `#` | `# This text is commented out` |\n",
    "\n",
    "Here you can find the style guide and conventions that are often used in **`Python`**:\n",
    "\n",
    "[https://peps.python.org/pep-0008/](https://peps.python.org/pep-0008/)"
   ]
  },
  {
   "cell_type": "markdown",
   "metadata": {},
   "source": [
    "<br>\n",
    "<div class=\"alert alert-success\">\n",
    "<b>TIP: </b>Note that no spaces are allowed in the name of any abstraction as Python sees the word after space as a separate command.</div>"
   ]
  },
  {
   "cell_type": "markdown",
   "metadata": {},
   "source": [
    "Any programming language, including **`Python`** comes with <mark>basic operations</mark> (e.g., +, -) and functions(e.g., `print()`) which are <mark>reserved by the standard library</mark> (i.e., the library that **`Python`** uses by default, which you don't have to import).\n",
    "\n",
    "Naming your variables or functions the same way as these keywords will result in some unpredictable behaviours of your code. Therefore, it is a good practice to <mark>avoid using the keywords reserved by **`Python`**</mark>. You can find the list of **`Python`** keywords here: [https://www.w3schools.com/python/python_ref_keywords.asp](https://www.w3schools.com/python/python_ref_keywords.asp).\n",
    "\n",
    "The keywords that we cannot use for variable names in most version of **`Python`** are: **`and`**, **`as`**, **`assert`**, **`break`**, **`class`**, **`continue`**, **`def`**,  **`del`**,  **`elif`**, **`else`**, **`except`**, **`False`**, **`finally`**, **`for`**, **`from`**, **`global`**, **`if`**, **`import`**, **`in`**, **`is`**, **`lambda`**, **`None`**, **`nonlocal`**, **`not`**, **`or`**, **`pass`**, **`raise`**, **`return`**, **`True`**, **`try`**, **`with`**, **`while`** and  **`yield`**.\n",
    "\n",
    "Also, note that if you are using <mark>some packages</mark>, they will also <mark>have some reserved keywords</mark>. You should check the documentation of the package when naming your variables. For most common **`Python`** packages (e.g., **`NumPy`**, **`Pandas`**) your text editor will auto-complete the code you are writing using the keywords from the packages, so you can see immediately what words you should not use in your code as the names of variables."
   ]
  },
  {
   "cell_type": "markdown",
   "metadata": {},
   "source": [
    "## 2.2 Data Types\n",
    "\n",
    "In **`Python`**, and any other programming language, we use <mark>data types</mark> to represnt different formats of data that we are working with. Data types may not seem to be important, but they are crucial for the computer to appropriately allocate memory and understand what commands it is allowed to perform with the data we provide."
   ]
  },
  {
   "cell_type": "markdown",
   "metadata": {},
   "source": [
    "The following are the main data types that we will be using in this course:\n",
    "\n",
    "| Data Type | Python Type | Interpretation | Use Case |\n",
    "| --- | --- | --- | --- |\n",
    "| Boolean | bool | True of False value (i.e., 1 or 0 respectively) | `active = True` |\n",
    "| String | str | Characters or text | `name = \"John\"` |\n",
    "| Integer | int | Whole number | `n_steps = 200` |\n",
    "| List | list | List of elements of other data types | `financial_instruments = [\"Stocks\", \"Bonds\", \"Derivatives\"]` |\n",
    "| Tuple | tuple | Immutable list of elements of other data types | `upper_bounds = (0.5, 1, 0.3)` |\n",
    "| Dictionary | dict | List of elements that are referrenced by a key | `account_balances = {\"Paul\":50, \"George\":96}` |\n",
    "| Set | set | List of unique elements | `types_of_rates = {\"Treasury Rate\", \"Overnight Rate\", \"Repo Rate\"}` |\n",
    "| Array | np.array | Tensor (i.e., vector, matrix) | `portfolio = np.array([100, 10, 400])` |\n",
    "| Series | pd.Series | Series of values with indices | `stock_timeseries = pd.Series([100, 101.5, 100.9, 102.2])` |\n",
    "| Dataframe | pd.DataFrame | Dataframe of values arranged into rows and columns (i.e., similar to **`Excel`** table) | `stock_dataframe = pd.DataFrame([100, 101.5, 100.9, 102.2])` |\n",
    "| Date and Time | datetime | Date and time | `deadline_datetime = datetime.datetime(2023, 10, 16, 18, 45)` |\n",
    "| Date | date | Date | `deadline_date = datetime.date(2023, 10, 16)` |\n",
    "\n",
    "Note that some of these data types are not in the **`Python`** standard library (e.g., Array, Series, DataFrame, Date and Time), so in order to use these we have to import a library where these are implemented."
   ]
  },
  {
   "cell_type": "markdown",
   "metadata": {},
   "source": [
    "### 2.2.1 Strings\n",
    "\n",
    "**Strings** are a sequence of characters that are stored together as text.\n",
    "\n",
    "A **string** is defined by entering characters between two single quotation marks `' '` or double quotation marks `\" \"`."
   ]
  },
  {
   "cell_type": "code",
   "execution_count": 5,
   "metadata": {},
   "outputs": [],
   "source": [
    "some_string = \"hello\""
   ]
  },
  {
   "cell_type": "markdown",
   "metadata": {},
   "source": [
    "Inside strings we can use special characters to format the text.\n",
    "\n",
    "- `\\n` creates a new line.\n",
    "- `\\t` inserts a tab."
   ]
  },
  {
   "cell_type": "code",
   "execution_count": 1,
   "metadata": {},
   "outputs": [
    {
     "name": "stdout",
     "output_type": "stream",
     "text": [
      "hello \n",
      " world\n",
      "\n",
      "\n",
      "hello \t world\n"
     ]
    }
   ],
   "source": [
    "# New line inside string\n",
    "some_string = \"hello \\n world\"\n",
    "print(some_string)\n",
    "\n",
    "print(\"\\n\")\n",
    "\n",
    "# Tab inside string\n",
    "some_string = \"hello \\t world\"\n",
    "print(some_string)"
   ]
  },
  {
   "cell_type": "markdown",
   "metadata": {},
   "source": [
    "### 2.2.2 Integers\n",
    "\n",
    "**Integers** are whole numbers that can positive, negatice or 0."
   ]
  },
  {
   "cell_type": "code",
   "execution_count": 8,
   "metadata": {},
   "outputs": [],
   "source": [
    "some_int = -80"
   ]
  },
  {
   "cell_type": "markdown",
   "metadata": {},
   "source": [
    "### 2.2.3 Floats\n",
    "\n",
    "**Floats** are real numbers, but they are limited by memory (i.e., some irrational numbers like $\\pi$ will have only a limited number of decimal digits)."
   ]
  },
  {
   "cell_type": "code",
   "execution_count": 9,
   "metadata": {},
   "outputs": [],
   "source": [
    "some_float = 678.23290324"
   ]
  },
  {
   "cell_type": "markdown",
   "metadata": {},
   "source": [
    "### 2.2.4 Non-matching Data Types\n",
    "\n",
    "One reason **`Python`** needs to know the data types is to understand what operations it can perform on the data.\n",
    "\n",
    "For example, if we have number 10 and a string \"9\", **`Python`** will refuse to add them together (in fact **`Python`** will not refuse the operation as it is dynamically typed, it will be **`C`** that will refuse the operation)."
   ]
  },
  {
   "cell_type": "code",
   "execution_count": 7,
   "metadata": {},
   "outputs": [
    {
     "ename": "TypeError",
     "evalue": "unsupported operand type(s) for +: 'int' and 'str'",
     "output_type": "error",
     "traceback": [
      "\u001b[1;31m---------------------------------------------------------------------------\u001b[0m",
      "\u001b[1;31mTypeError\u001b[0m                                 Traceback (most recent call last)",
      "\u001b[1;32mc:\\Users\\Rem\\Documents\\Documents\\PhD\\Postgraduate Teaching Assistant\\Digital Finance 2023-2024\\New Code Repository\\workshops\\workshop_1.ipynb Cell 53\u001b[0m line \u001b[0;36m3\n\u001b[0;32m      <a href='vscode-notebook-cell:/c%3A/Users/Rem/Documents/Documents/PhD/Postgraduate%20Teaching%20Assistant/Digital%20Finance%202023-2024/New%20Code%20Repository/workshops/workshop_1.ipynb#Y143sZmlsZQ%3D%3D?line=0'>1</a>\u001b[0m number \u001b[39m=\u001b[39m \u001b[39m10\u001b[39m\n\u001b[0;32m      <a href='vscode-notebook-cell:/c%3A/Users/Rem/Documents/Documents/PhD/Postgraduate%20Teaching%20Assistant/Digital%20Finance%202023-2024/New%20Code%20Repository/workshops/workshop_1.ipynb#Y143sZmlsZQ%3D%3D?line=1'>2</a>\u001b[0m string \u001b[39m=\u001b[39m \u001b[39m\"\u001b[39m\u001b[39m9\u001b[39m\u001b[39m\"\u001b[39m\n\u001b[1;32m----> <a href='vscode-notebook-cell:/c%3A/Users/Rem/Documents/Documents/PhD/Postgraduate%20Teaching%20Assistant/Digital%20Finance%202023-2024/New%20Code%20Repository/workshops/workshop_1.ipynb#Y143sZmlsZQ%3D%3D?line=2'>3</a>\u001b[0m \u001b[39mprint\u001b[39m(number\u001b[39m+\u001b[39;49mstring)\n",
      "\u001b[1;31mTypeError\u001b[0m: unsupported operand type(s) for +: 'int' and 'str'"
     ]
    }
   ],
   "source": [
    "number = 10\n",
    "string = \"9\"\n",
    "print(number+string)"
   ]
  },
  {
   "cell_type": "markdown",
   "metadata": {},
   "source": [
    "### 2.2.5 Type Safety and Type Hinting\n",
    "\n",
    "**Type safety**, in simple terms, is the ability of a compiler (if the programming language has one) to check that the data types that will be used in the proccessing do match, and that there is no data transformation that will lead to type errors.\n",
    "\n",
    "**`Python`** is a dynamically typesd language (i.e., scripting language), so there is no check happening before the runtime. It means that the errors, similar to the one we saw above, will be thrown when the program is already running. As you can imagine this can cause all sorts of problems if the program is built for critical applications (e.g., life support systems).\n",
    "\n",
    "Examples of statically typed languages, and therefore type safe, are **`C`**, **`C++`** and **`Rust`**.\n",
    "\n",
    "One way we can help ourselves when developing **`Python`** applications, is to add **type hinting** to our **`Python`** code. **Type hinting** is optional way of directing **`Python`** interpreter through our code so that in our editor or IDE will know what actions are allowed to be performed on the data structures we have defined."
   ]
  },
  {
   "cell_type": "code",
   "execution_count": 8,
   "metadata": {},
   "outputs": [
    {
     "name": "stdout",
     "output_type": "stream",
     "text": [
      "[10, 7]\n"
     ]
    }
   ],
   "source": [
    "from typing import List\n",
    "\n",
    "messi_shirt_number:int = 10\n",
    "ronaldo_shirt_number:int = 7\n",
    "\n",
    "great_football_players_shirt_numbers: List[int] = [messi_shirt_number, ronaldo_shirt_number]\n",
    "print(great_football_players_shirt_numbers)"
   ]
  },
  {
   "cell_type": "markdown",
   "metadata": {},
   "source": [
    "In **`Python`**, we can design algorithms that are not type safe. It saves us time but in real-world scenarios it might be very troublesome.\n",
    "\n",
    "Below is an example of the code that is not type safe and will fail."
   ]
  },
  {
   "cell_type": "code",
   "execution_count": 7,
   "metadata": {},
   "outputs": [
    {
     "name": "stdout",
     "output_type": "stream",
     "text": [
      "Money was sent.\n",
      "Money was received.\n",
      "{'updated_balance_of_sender': 7, 'updated_balance_of_receiver': 9}\n"
     ]
    }
   ],
   "source": [
    "# Function that moves money from sender to receiver\n",
    "def transaction(balance_of_sender:float, balance_of_receiver:float, transaction_value:float) -> dict:\n",
    "    updated_balance_of_sender = balance_of_sender-transaction_value\n",
    "    print(\"Money was sent.\")\n",
    "    updated_balance_of_receiver = balance_of_receiver+transaction_value\n",
    "    print(\"Money was received.\")\n",
    "    return {\"updated_balance_of_sender\":updated_balance_of_sender, \"updated_balance_of_receiver\":updated_balance_of_receiver}\n",
    "\n",
    "# Example of the transaction function returning the expected result\n",
    "result = transaction(balance_of_sender=10, balance_of_receiver=6, transaction_value=3)\n",
    "\n",
    "# Example of the transaction function failing due to not being type safe\n",
    "# result = transaction(balance_of_sender=10, balance_of_receiver=\"6\", transaction_value=3)\n",
    "\n",
    "print(result)"
   ]
  },
  {
   "cell_type": "markdown",
   "metadata": {},
   "source": [
    "The example above shows that **`Python`** may fail at runtime (i.e., when the program is running), which means the code breaks while being executed. This can be mitigated by creating assertions at the start of the program that ensure that the program's variabkes are well defined, but this will cause for your program to take longer time to execute."
   ]
  },
  {
   "cell_type": "markdown",
   "metadata": {},
   "source": [
    "### 2.2.6 Numerical Errors\n",
    "\n",
    "We cannot represent 1/3 in <mark>base 10</mark> as we get 0.333333... The same is true for some numbers like 0.1 in <mark>base 2</mark>. Computers use base 2 to store the values of our variables, so for 0.1 a computer will not be able to allocate enough space as it will need an infinite amount of storage space. For this reason, your programs may return numbers with small errors."
   ]
  },
  {
   "cell_type": "code",
   "execution_count": 31,
   "metadata": {},
   "outputs": [
    {
     "name": "stdout",
     "output_type": "stream",
     "text": [
      "0.30000000000000004\n"
     ]
    }
   ],
   "source": [
    "simple_sum = 0.1 + 0.2\n",
    "print(simple_sum)"
   ]
  },
  {
   "cell_type": "markdown",
   "metadata": {},
   "source": [
    "### 2.2.7 Check Data Type\n",
    "\n",
    "In **`Python`** we can check the data type of an instance (we will discuss instances later on, for now think of it as an example of a specific type - e.g., 8 is an instance of integer, \"hello\" is an instance of string).\n",
    "\n",
    "This is done with a function `type()`"
   ]
  },
  {
   "cell_type": "code",
   "execution_count": 32,
   "metadata": {},
   "outputs": [
    {
     "name": "stdout",
     "output_type": "stream",
     "text": [
      "<class 'int'>\n",
      "<class 'pandas.core.frame.DataFrame'>\n"
     ]
    }
   ],
   "source": [
    "import pandas as pd\n",
    "\n",
    "number = 40\n",
    "print(type(number))\n",
    "\n",
    "df = pd.DataFrame([[1, 2, 3], [4, 5, 6]])\n",
    "print(type(df))"
   ]
  },
  {
   "cell_type": "markdown",
   "metadata": {},
   "source": [
    "Note that the results say `class`. In **`Python`** types of variables are defined as classes meaning they have certain properties that all instances of this class have."
   ]
  },
  {
   "cell_type": "markdown",
   "metadata": {},
   "source": [
    "### 2.2.8 Type Conversion\n",
    "\n",
    "Some data types in **`Python`** can be converted to other data types. This is convenient if let's say we have a bunch of data in the string and we extract the numeric data that we want to work with.\n",
    "\n",
    "Below are some examples of data conversions that you can perform. Note that to perform the conversion we can use the name of the data type that we want to convert to as a function (i.e., **`Python Type`** column from the data types table above)."
   ]
  },
  {
   "cell_type": "code",
   "execution_count": 11,
   "metadata": {},
   "outputs": [
    {
     "name": "stdout",
     "output_type": "stream",
     "text": [
      "1234.0 \t <class 'float'>\n",
      "1234 \t <class 'int'>\n"
     ]
    }
   ],
   "source": [
    "string_var = \"1234\"\n",
    "\n",
    "# Conversion from string to float\n",
    "float_var = float(string_var)\n",
    "# Conversion from string to int\n",
    "int_var = int(string_var)\n",
    "\n",
    "print(float_var, \"\\t\", type(float_var))\n",
    "print(int_var, \"\\t\", type(int_var))"
   ]
  },
  {
   "cell_type": "code",
   "execution_count": 13,
   "metadata": {},
   "outputs": [
    {
     "name": "stdout",
     "output_type": "stream",
     "text": [
      "23.6 \t <class 'str'>\n"
     ]
    }
   ],
   "source": [
    "float_var = 23.6\n",
    "\n",
    "string_var = str(float_var)\n",
    "\n",
    "print(string_var, \"\\t\", type(string_var))"
   ]
  },
  {
   "cell_type": "markdown",
   "metadata": {},
   "source": [
    "However, not all conversions make sense or are safe to perform.\n",
    "\n",
    "If we have a <mark>string \"hello\"</mark>, we <mark>cannot convert it to float or int</mark>."
   ]
  },
  {
   "cell_type": "code",
   "execution_count": 14,
   "metadata": {},
   "outputs": [
    {
     "ename": "ValueError",
     "evalue": "could not convert string to float: 'hello'",
     "output_type": "error",
     "traceback": [
      "\u001b[1;31m---------------------------------------------------------------------------\u001b[0m",
      "\u001b[1;31mValueError\u001b[0m                                Traceback (most recent call last)",
      "\u001b[1;32mc:\\Users\\Rem\\Documents\\Documents\\PhD\\Postgraduate Teaching Assistant\\Digital Finance 2023-2024\\New Code Repository\\workshops\\workshop_1.ipynb Cell 54\u001b[0m line \u001b[0;36m3\n\u001b[0;32m      <a href='vscode-notebook-cell:/c%3A/Users/Rem/Documents/Documents/PhD/Postgraduate%20Teaching%20Assistant/Digital%20Finance%202023-2024/New%20Code%20Repository/workshops/workshop_1.ipynb#Y160sZmlsZQ%3D%3D?line=0'>1</a>\u001b[0m string_var \u001b[39m=\u001b[39m \u001b[39m\"\u001b[39m\u001b[39mhello\u001b[39m\u001b[39m\"\u001b[39m\n\u001b[1;32m----> <a href='vscode-notebook-cell:/c%3A/Users/Rem/Documents/Documents/PhD/Postgraduate%20Teaching%20Assistant/Digital%20Finance%202023-2024/New%20Code%20Repository/workshops/workshop_1.ipynb#Y160sZmlsZQ%3D%3D?line=2'>3</a>\u001b[0m float_var \u001b[39m=\u001b[39m \u001b[39mfloat\u001b[39;49m(string_var)\n",
      "\u001b[1;31mValueError\u001b[0m: could not convert string to float: 'hello'"
     ]
    }
   ],
   "source": [
    "string_var = \"hello\"\n",
    "\n",
    "float_var = float(string_var)"
   ]
  },
  {
   "cell_type": "markdown",
   "metadata": {},
   "source": [
    "\n",
    "Also, we have to be carefull with converting floats to int as the <mark>decimal value will be lost</mark>."
   ]
  },
  {
   "cell_type": "code",
   "execution_count": 15,
   "metadata": {},
   "outputs": [
    {
     "name": "stdout",
     "output_type": "stream",
     "text": [
      "34 \t <class 'int'>\n"
     ]
    }
   ],
   "source": [
    "float_var = 34.8\n",
    "\n",
    "int_var = int(float_var)\n",
    "\n",
    "print(int_var, \"\\t\", type(int_var))"
   ]
  },
  {
   "cell_type": "markdown",
   "metadata": {},
   "source": [
    "There are more complicated conversion that we can perform.\n",
    "\n",
    "If we consider a list of numerica values, we can convert it to become a set of elements or an array (i.e., vector)."
   ]
  },
  {
   "cell_type": "code",
   "execution_count": 17,
   "metadata": {},
   "outputs": [
    {
     "name": "stdout",
     "output_type": "stream",
     "text": [
      "{256, 1, 3.7, 78} \t <class 'set'>\n",
      "[  1.   78.    3.7 256.    1.    3.7] \t <class 'numpy.ndarray'>\n"
     ]
    }
   ],
   "source": [
    "import numpy as np\n",
    "\n",
    "list_of_numbers = [1, 78, 3.7, 256, 1, 3.7]\n",
    "\n",
    "# Conversion from list to set\n",
    "set_of_numbers = set(list_of_numbers)\n",
    "# Conversion from list to array\n",
    "array_of_numbers = np.array(list_of_numbers)\n",
    "\n",
    "print(set_of_numbers, \"\\t\", type(set_of_numbers))\n",
    "print(array_of_numbers, \"\\t\", type(array_of_numbers))"
   ]
  },
  {
   "cell_type": "markdown",
   "metadata": {},
   "source": [
    "Note that a <mark>set conversion eliminates the duplicates of the data</mark>, which is consistent with the mathematical definition of the set."
   ]
  },
  {
   "cell_type": "markdown",
   "metadata": {},
   "source": [
    "### 2.2.9 Data Types: Exercises"
   ]
  },
  {
   "cell_type": "markdown",
   "metadata": {},
   "source": [
    "<div class=\"alert alert-warning\">\n",
    "<b>EXERCISE (1):</b>\n",
    "\n",
    "Define a string and set it to \"Hello, world!\". Then print that string.\n",
    "</div>"
   ]
  },
  {
   "cell_type": "code",
   "execution_count": 1,
   "metadata": {},
   "outputs": [
    {
     "name": "stdout",
     "output_type": "stream",
     "text": [
      "Hello, world!\n"
     ]
    }
   ],
   "source": [
    "# Solution\n",
    "\n",
    "hello = \"Hello, world!\" \n",
    "print(hello)\n",
    "\n"
   ]
  },
  {
   "cell_type": "markdown",
   "metadata": {},
   "source": [
    "<div class=\"alert alert-warning\">\n",
    "<b>EXERCISE (2):</b>\n",
    "\n",
    "Define an integer and set its value to 50. Then convert this integer so that it is of type string. Check that the type of this new variable is &lt;class 'str'&gt;.\n",
    "</div>"
   ]
  },
  {
   "cell_type": "code",
   "execution_count": 6,
   "metadata": {},
   "outputs": [
    {
     "name": "stdout",
     "output_type": "stream",
     "text": [
      "<class 'str'>\n"
     ]
    }
   ],
   "source": [
    "# Solution\n",
    "int_var = 50\n",
    "int_var = str(int_var)\n",
    "print(type(int_var))"
   ]
  },
  {
   "cell_type": "markdown",
   "metadata": {},
   "source": [
    "<div class=\"alert alert-warning\">\n",
    "<b>EXERCISE (3):</b>\n",
    "\n",
    "Define a list that contains elements 1, 2, 3, \"hello\" and 56.7, and then convert it to a set. Check that the value of the new variable is &lt;class 'set'&gt;\n",
    "</div>"
   ]
  },
  {
   "cell_type": "code",
   "execution_count": 2,
   "metadata": {},
   "outputs": [
    {
     "name": "stdout",
     "output_type": "stream",
     "text": [
      "<class 'set'>\n"
     ]
    }
   ],
   "source": [
    "# Solution\n",
    "list_of_things = [1,2,3,\"hello\",56.7]\n",
    "list_of_things = set(list_of_things)\n",
    "print(type(list_of_things))"
   ]
  },
  {
   "cell_type": "markdown",
   "metadata": {},
   "source": [
    "## 2.3 Simple Operations"
   ]
  },
  {
   "cell_type": "markdown",
   "metadata": {},
   "source": [
    "### 2.3.1 Assignment Operations\n",
    "\n",
    "**Assignment operation** is the process of introducing a new value to the variable. If we have a variable called `x` and we want to set it to be 10, we will perform the variable assignment in the following way:"
   ]
  },
  {
   "cell_type": "code",
   "execution_count": 18,
   "metadata": {},
   "outputs": [],
   "source": [
    "x = 10"
   ]
  },
  {
   "cell_type": "markdown",
   "metadata": {},
   "source": [
    "Assignment can also be done for different objects. For example, we can assign a vector of values to the variable called `v`."
   ]
  },
  {
   "cell_type": "code",
   "execution_count": 19,
   "metadata": {},
   "outputs": [],
   "source": [
    "v = np.array([2, 5, 90])"
   ]
  },
  {
   "cell_type": "markdown",
   "metadata": {},
   "source": [
    "### 2.3.2 String Operations\n",
    "\n",
    "In **`Python`** we can perform multiple operations on strings, for example:\n",
    "\n",
    "- **Concatenation** is the operation of merging multiple strings together into one string.\n",
    "- **Multiplication by integers** is the operation of duplicating a string multiple times (i.e., the number of times defined by the integer) and concatenating them."
   ]
  },
  {
   "cell_type": "code",
   "execution_count": 7,
   "metadata": {},
   "outputs": [
    {
     "name": "stdout",
     "output_type": "stream",
     "text": [
      "Hello, world!\n",
      "hellohellohello\n"
     ]
    }
   ],
   "source": [
    "# Example of string concatenation\n",
    "some_string = \"Hello\"+\", \"+\"world!\"\n",
    "print(some_string)\n",
    "\n",
    "# Example of string multiplied by an integer\n",
    "some_string = \"hello\"*3\n",
    "print(some_string)"
   ]
  },
  {
   "cell_type": "markdown",
   "metadata": {},
   "source": [
    "### 2.3.3 Basic Mathematical Operations\n",
    "\n",
    "In any programming language, we have standard mathematical operations such as +, -, $\\times$ and /."
   ]
  },
  {
   "cell_type": "code",
   "execution_count": 22,
   "metadata": {},
   "outputs": [
    {
     "name": "stdout",
     "output_type": "stream",
     "text": [
      "12\n",
      "8\n",
      "20\n",
      "5.0\n"
     ]
    }
   ],
   "source": [
    "# Example of addition\n",
    "print(10+2)\n",
    "\n",
    "# Example of subtraction\n",
    "print(10-2)\n",
    "\n",
    "# Example of multiplication\n",
    "print(10*2)\n",
    "\n",
    "# Example of division\n",
    "print(10/2)"
   ]
  },
  {
   "cell_type": "markdown",
   "metadata": {},
   "source": [
    "Another very important operation is the prioritization, which allows us to perform computations in a specific order."
   ]
  },
  {
   "cell_type": "code",
   "execution_count": 30,
   "metadata": {},
   "outputs": [
    {
     "name": "stdout",
     "output_type": "stream",
     "text": [
      "36\n"
     ]
    }
   ],
   "source": [
    "# Example of prioritization\n",
    "print((1+17)*2)"
   ]
  },
  {
   "cell_type": "markdown",
   "metadata": {},
   "source": [
    "We can use // command to perform an integer division."
   ]
  },
  {
   "cell_type": "code",
   "execution_count": 28,
   "metadata": {},
   "outputs": [
    {
     "name": "stdout",
     "output_type": "stream",
     "text": [
      "4\n"
     ]
    }
   ],
   "source": [
    "# Example of integer division (the number on the left is divided by the number on the right, and only the integer value of the result is returned)\n",
    "print(24//5)"
   ]
  },
  {
   "cell_type": "markdown",
   "metadata": {},
   "source": [
    "We can also use % command in **`Python`** to find the remainder of a division, which is helpful if we want to do modulo arithmetic."
   ]
  },
  {
   "cell_type": "code",
   "execution_count": 26,
   "metadata": {},
   "outputs": [
    {
     "name": "stdout",
     "output_type": "stream",
     "text": [
      "1\n"
     ]
    }
   ],
   "source": [
    "# Example of remainder operation (the number on the left is divided by the number on the right, and the remainder is returned)\n",
    "print(10%3)"
   ]
  },
  {
   "cell_type": "markdown",
   "metadata": {},
   "source": [
    "Another standard operation we have available to us is the exponentiation. We use ** to raise one quantity to the power of the other."
   ]
  },
  {
   "cell_type": "code",
   "execution_count": 25,
   "metadata": {},
   "outputs": [
    {
     "name": "stdout",
     "output_type": "stream",
     "text": [
      "9\n"
     ]
    }
   ],
   "source": [
    "# Example of exponentiation (the number on the left is raised to the power of the number on the right)\n",
    "print(3**2)"
   ]
  },
  {
   "cell_type": "markdown",
   "metadata": {},
   "source": [
    "### 2.3.4 Input-Output Operations (IO Operations)\n",
    "\n",
    "By now you have seen us use function `print()`. This function takes in variables and values in your code that you want to print, and it prints them in the terminal. Technically speaking, we don't need a `print()` function in **`Jupyter Notebook`**, but it is a good practice to use it if you want to return a value from your code.\n",
    "\n",
    "The `print()` function can take as many parameters as you like and will print all of them out in the order you placed this inputs in. The inputs are separated by the comma.\n",
    "\n",
    "For example, if you have defined two variables - `x=5` and `y=8`, you can print them out in different order:"
   ]
  },
  {
   "cell_type": "code",
   "execution_count": 34,
   "metadata": {},
   "outputs": [
    {
     "name": "stdout",
     "output_type": "stream",
     "text": [
      "5 8\n",
      "8 5\n"
     ]
    }
   ],
   "source": [
    "x = 5\n",
    "y = 8\n",
    "\n",
    "print(x,y)\n",
    "print(y,x)"
   ]
  },
  {
   "cell_type": "markdown",
   "metadata": {},
   "source": [
    "Sometimes you may want to take in a user input. This can be achieved with the `input()` function.\n",
    "\n",
    "The `input()` function takes a string parameter, which acts as a prompt for the input you expect."
   ]
  },
  {
   "cell_type": "code",
   "execution_count": 35,
   "metadata": {},
   "outputs": [
    {
     "data": {
      "text/plain": [
       "'65'"
      ]
     },
     "execution_count": 35,
     "metadata": {},
     "output_type": "execute_result"
    }
   ],
   "source": [
    "input(\"How old are you?\")"
   ]
  },
  {
   "cell_type": "markdown",
   "metadata": {},
   "source": [
    "We can assign the value we gathered with the `input()` function to a variable, so that we can interact with it in our code."
   ]
  },
  {
   "cell_type": "code",
   "execution_count": 36,
   "metadata": {},
   "outputs": [
    {
     "name": "stdout",
     "output_type": "stream",
     "text": [
      "39 \t <class 'str'>\n"
     ]
    }
   ],
   "source": [
    "age = input(\"How old are you?\")\n",
    "print(age, \"\\t\", type(age))"
   ]
  },
  {
   "cell_type": "markdown",
   "metadata": {},
   "source": [
    "Note that any input that you provide to the `input()` function by default is regarded as string. We can use type conversions to convert this string value to another type."
   ]
  },
  {
   "cell_type": "code",
   "execution_count": 37,
   "metadata": {},
   "outputs": [
    {
     "name": "stdout",
     "output_type": "stream",
     "text": [
      "56 \t <class 'int'>\n"
     ]
    }
   ],
   "source": [
    "age = input(\"How old are you?\")\n",
    "age = int(age)\n",
    "print(age, \"\\t\", type(age))"
   ]
  },
  {
   "cell_type": "markdown",
   "metadata": {},
   "source": [
    "### 2.3.5 Comparison Operators\n",
    "\n",
    "**`Python`** allows us to compare the variables in our code, therefore, creating conditional statements.\n",
    "\n",
    "For comparison between the variables we use <, >, ==, !=, and these operators return a boolean value (i.e., True or False)."
   ]
  },
  {
   "cell_type": "code",
   "execution_count": 38,
   "metadata": {},
   "outputs": [
    {
     "name": "stdout",
     "output_type": "stream",
     "text": [
      "True\n",
      "False\n",
      "False\n",
      "True\n"
     ]
    }
   ],
   "source": [
    "# Example of less-than operator\n",
    "print(10<11)\n",
    "# Example of greater-than operator\n",
    "print(10>11)\n",
    "# Example of equal operator\n",
    "print(10==11)\n",
    "# Example of not-equal operator\n",
    "print(10!=11)"
   ]
  },
  {
   "cell_type": "markdown",
   "metadata": {},
   "source": [
    "We can also compare the booleans to other booleans."
   ]
  },
  {
   "cell_type": "code",
   "execution_count": 41,
   "metadata": {},
   "outputs": [
    {
     "name": "stdout",
     "output_type": "stream",
     "text": [
      "True\n",
      "True\n",
      "False\n"
     ]
    }
   ],
   "source": [
    "print(True==True)\n",
    "print(True!= False)\n",
    "print(True!=True)"
   ]
  },
  {
   "cell_type": "markdown",
   "metadata": {},
   "source": [
    "<br>\n",
    "<div class=\"alert alert-success\">\n",
    "<b>TIP: </b>Python has a piculiarity when defining boolean values. True is defined as 1 and False is defined as 0. Therefore, when we compare booleans with < and >, it also works. Moreover, we can sum multiple boolean variables together. These operations can be very useful when we try to find a number of True cases in an algorithm.</div>"
   ]
  },
  {
   "cell_type": "code",
   "execution_count": 43,
   "metadata": {},
   "outputs": [
    {
     "name": "stdout",
     "output_type": "stream",
     "text": [
      "True\n",
      "False\n",
      "3\n"
     ]
    }
   ],
   "source": [
    "# Comparison of booleans\n",
    "print(True>False)\n",
    "print(False<False)\n",
    "\n",
    "# Addition of booleans\n",
    "print(True+True+True+False)"
   ]
  },
  {
   "cell_type": "markdown",
   "metadata": {},
   "source": [
    "### 2.3.6 Conditional Expressions\n",
    "\n",
    "Using the comparison operators, we can now define the conditional expression.\n",
    "\n",
    "**Conditional expression** is an expression that allows you to differentiate between different outcomes of the conditional statement (i.e., statement with <, >, ==, !=).\n",
    "\n",
    "- We can use `if` keyword to check whether a conditional statement is satisfied (i.e., it returns True).\n",
    "- We can use `elif` keyword to check whether the next conditional statement is satisfied, given we already checked some conditional statement before (i.e., we used `if` or `elif` before).\n",
    "- We can use `else` keyword to execute the code after all conditional statements haven't been satisfied."
   ]
  },
  {
   "cell_type": "code",
   "execution_count": 44,
   "metadata": {},
   "outputs": [
    {
     "name": "stdout",
     "output_type": "stream",
     "text": [
      "x is not bigger than 9\n"
     ]
    }
   ],
   "source": [
    "x = 5\n",
    "\n",
    "# Conditional expression with two possible outcomes\n",
    "if x>9:\n",
    "    print(\"x is bigger than 9\")\n",
    "else:\n",
    "    print(\"x is not bigger than 9\")"
   ]
  },
  {
   "cell_type": "code",
   "execution_count": 48,
   "metadata": {},
   "outputs": [
    {
     "name": "stdout",
     "output_type": "stream",
     "text": [
      "x is bigger than 7\n"
     ]
    }
   ],
   "source": [
    "x = 8\n",
    "\n",
    "# Conditional expression with three possible outcomes\n",
    "if x>7:\n",
    "    print(\"x is bigger than 7\")\n",
    "elif x>3:\n",
    "    print(\"x is bigger than 3 but smaller or equal to 7\")\n",
    "else:\n",
    "    print(\"x is smaller than 3\")"
   ]
  },
  {
   "cell_type": "markdown",
   "metadata": {},
   "source": [
    "Note that there is a redundancy in our code in the cell above. We checked that `x>7` and then we check whether `x>3`. In this case some range that we check overlaps (i.e., the range $(7,\\infty)$ is probed twice), but it fine due to the order in which we used the conditional statements.\n",
    "\n",
    "But if we swap the first and the second statement, the oucome will be different."
   ]
  },
  {
   "cell_type": "code",
   "execution_count": 49,
   "metadata": {},
   "outputs": [
    {
     "name": "stdout",
     "output_type": "stream",
     "text": [
      "x is bigger than 3 but smaller or equal to 7\n"
     ]
    }
   ],
   "source": [
    "x = 8\n",
    "\n",
    "# Conditional expression with three possible outcomes, but the order of conditional statements has been changed\n",
    "\n",
    "if x>3:\n",
    "    print(\"x is bigger than 3 but smaller or equal to 7\")\n",
    "elif x>7:\n",
    "    print(\"x is bigger than 7\")\n",
    "else:\n",
    "    print(\"x is smaller than 3\")"
   ]
  },
  {
   "cell_type": "markdown",
   "metadata": {},
   "source": [
    "This can lead to mistakes in the code, just like the one in the cell above. To avoid this, we can use logical operators to combine multiple conditional statements together."
   ]
  },
  {
   "cell_type": "markdown",
   "metadata": {},
   "source": [
    "### 2.3.7 Logical Operators\n",
    "\n",
    "**Conditional operators** are operators that compare boolean values. Since conditional statements return boolean values, we can compare one conditional statement to another.\n",
    "\n",
    "- `and` keyword is used to check whether two booleans are the same (i.e., both are False or both are True).\n",
    "- `or` keyword is used to check whether either of the booleans is True ir both are True.\n",
    "- `not` keyword is used to reverse the comparison result (i.e., not False is True).\n",
    "- `is` keyword is used to check whether one boolean is the same as the other.\n",
    "\n",
    "Note that the order of comparison does not matter for `and` and `or` operators (i.e., `x and y` is the same as `y and x`)."
   ]
  },
  {
   "cell_type": "code",
   "execution_count": 54,
   "metadata": {},
   "outputs": [
    {
     "name": "stdout",
     "output_type": "stream",
     "text": [
      "and keyword\n",
      "True\n",
      "False\n",
      "False\n",
      "\n",
      " or keyword\n",
      "True\n",
      "True\n",
      "False\n",
      "\n",
      " not keyword\n",
      "False\n",
      "True\n",
      "\n",
      " is keyword\n",
      "True\n",
      "True\n",
      "False\n",
      "True\n"
     ]
    }
   ],
   "source": [
    "print(\"and keyword\")\n",
    "print(True and True)\n",
    "print(True and False)\n",
    "print(False and False)\n",
    "\n",
    "print(\"\\n or keyword\")\n",
    "print(True or True)\n",
    "print(True or False)\n",
    "print(False or False)\n",
    "\n",
    "print(\"\\n not keyword\")\n",
    "print(not True)\n",
    "print(not False)\n",
    "\n",
    "print(\"\\n is keyword\")\n",
    "print(True is True)\n",
    "print(False is False)\n",
    "print(True is False)\n",
    "print(True is not False)"
   ]
  },
  {
   "cell_type": "markdown",
   "metadata": {},
   "source": [
    "### 2.3.8 Operation Precedence\n",
    "\n",
    "Each operator in **`Python`** has a priority so that if we combine multiple operators in one expression there will be a unique way the **`Python`** interpreter will work out the result.\n",
    "\n",
    "The table below shows the precedence of the operators in **`Python`**.\n",
    "\n",
    "| Operator | Description |\n",
    "| --- | --- |\n",
    "| ** | Exponentiation (raise to the power) |\n",
    "| ~, +, - | Compliment, unary plus and minus (method names for the last two are +@ and -@) |\n",
    "| *, /, %, // | Multiply, divide, modulo and floor division |\n",
    "| +, - | Addition and subtraction |\n",
    "| >>, << | Right and left bitwise shift |\n",
    "| & | Bitwise AND |\n",
    "| ^, \\| | Bitwise XOR and OR |\n",
    "| <=, <, >, => | Comparison operators |\n",
    "| ==, != | Equality operator |\n",
    "| =, %=, /=, //=, -=, +=, $*$=, $**$= | Assignment operators |\n",
    "| is, is not | Identity operators |\n",
    "| in, not in | Membership operators |\n",
    "| not, or, and | Logical operators |\n",
    "\n",
    "If there are two neighbouring operators with the same priority then they are evaluated from left to right (i.e., 1+5-3=(1+5)-3)."
   ]
  },
  {
   "cell_type": "markdown",
   "metadata": {},
   "source": [
    "### 2.3.9 Simple Operations: Exercises"
   ]
  },
  {
   "cell_type": "markdown",
   "metadata": {},
   "source": [
    "<div class=\"alert alert-warning\">\n",
    "<b>EXERCISE (4):</b>\n",
    "\n",
    "Create two variables of type string, and assign them any value. Try to add one string to another and print the result.\n",
    "</div>"
   ]
  },
  {
   "cell_type": "code",
   "execution_count": 3,
   "metadata": {},
   "outputs": [
    {
     "name": "stdout",
     "output_type": "stream",
     "text": [
      "23\n"
     ]
    }
   ],
   "source": [
    "# Solution\n",
    "string1 = \"2\"\n",
    "string2 = \"3\"\n",
    "print(string1+string2)\n"
   ]
  },
  {
   "cell_type": "markdown",
   "metadata": {},
   "source": [
    "<div class=\"alert alert-warning\">\n",
    "<b>EXERCISE (5):</b>\n",
    "\n",
    "Take an input from a user and duplicate it. Print out the resulting string.\n",
    "</div>"
   ]
  },
  {
   "cell_type": "code",
   "execution_count": 4,
   "metadata": {},
   "outputs": [
    {
     "name": "stdout",
     "output_type": "stream",
     "text": [
      "yoyo\n"
     ]
    }
   ],
   "source": [
    "# Solution\n",
    "user_input = input(\"Type..\")\n",
    "user_input = user_input*2\n",
    "print(user_input)"
   ]
  },
  {
   "cell_type": "markdown",
   "metadata": {},
   "source": [
    "<div class=\"alert alert-warning\">\n",
    "<b>EXERCISE (6):</b>\n",
    "\n",
    "Ask the user to input any integer number. Ensure that Python recognizes this variable to be an integer. If the number is bigger than 10 print \"The entered number is bigger than 10\", otherwise print \"This number is not bigger than 10\".\n",
    "</div>"
   ]
  },
  {
   "cell_type": "code",
   "execution_count": 6,
   "metadata": {},
   "outputs": [
    {
     "name": "stdout",
     "output_type": "stream",
     "text": [
      "the entered number is > 10\n"
     ]
    }
   ],
   "source": [
    "# Solution\n",
    "num = int(input(\"Enter an int num\"))\n",
    "if num > 10:\n",
    "    print(\"the entered number is > 10\")\n",
    "else:\n",
    "    print(\"the number is not > 10\")"
   ]
  },
  {
   "cell_type": "markdown",
   "metadata": {},
   "source": [
    "<div class=\"alert alert-warning\">\n",
    "<b>EXERCISE (7):</b>\n",
    "\n",
    "Given the expression:\n",
    "$$(10-4)*7/5,$$\n",
    "\n",
    "what answer would Python give. Code it out and check for yourself.\n",
    "</div>"
   ]
  },
  {
   "cell_type": "code",
   "execution_count": 8,
   "metadata": {},
   "outputs": [
    {
     "name": "stdout",
     "output_type": "stream",
     "text": [
      "8.4\n"
     ]
    }
   ],
   "source": [
    "# Solution\n",
    "print((10-4)*7/5)"
   ]
  },
  {
   "cell_type": "markdown",
   "metadata": {},
   "source": [
    "<div class=\"alert alert-warning\">\n",
    "<b>EXERCISE (8):</b>\n",
    "\n",
    "Define a float variable with some float value assigned to it. Write the code that checks the variable:\n",
    "<ol>\n",
    "<li>if this variable is lower than -10, print \"Lower than -10\"</li>\n",
    "<li>if it is between -10 and 0 (excluding 0, but including -10), print \"Lower than 0, but higher or equal to -10\"</li>\n",
    "<li>if the value is between 0 and 10, print \"Bigger or equal 0, but lower than 10\"</li>\n",
    "<li> if the variable is bigger than 10, print \"Bigger than 10\"</li>\n",
    "</ol>\n",
    "</div>"
   ]
  },
  {
   "cell_type": "code",
   "execution_count": 10,
   "metadata": {},
   "outputs": [
    {
     "name": "stdout",
     "output_type": "stream",
     "text": [
      "Lower than 0, but higher or equal to -10\n"
     ]
    }
   ],
   "source": [
    "# Solution\n",
    "float_var = -4.5\n",
    "if float_var < -10:\n",
    "    print(\"Lower than 10\")\n",
    "elif float_var >= -10 and float_var <0:\n",
    "    print(\"Lower than 0, but higher or equal to -10\")\n",
    "elif float_var >=0 and float_var < 10:\n",
    "    print(\"Bigger or equal to 0, but lower than 10\")\n",
    "elif float_var > 10:\n",
    "    print(\"Bigger than 10\")"
   ]
  },
  {
   "cell_type": "markdown",
   "metadata": {},
   "source": [
    "## 2.4 Loops\n",
    "\n",
    "In **`Python`** we can use loops to iterate or repeat a specific actions multiple times.\n",
    "\n",
    "There are two main types of loops that are commonly used:\n",
    "\n",
    "- `for` loop is used to iterate over a certain range or certain elements in a range.\n",
    "- `while` loop is used to iterate while a certain condition is True."
   ]
  },
  {
   "cell_type": "markdown",
   "metadata": {},
   "source": [
    "### 2.4.1 `while` Loops\n",
    "\n",
    "A **`while`** loop is used to execute statements inside the loop are repeatedly, as long as some condition holds. Once the condition itself evaluates to **`False`** the next section of the code is executed."
   ]
  },
  {
   "cell_type": "code",
   "execution_count": 55,
   "metadata": {},
   "outputs": [
    {
     "name": "stdout",
     "output_type": "stream",
     "text": [
      "1\n",
      "2\n",
      "3\n",
      "4\n",
      "5\n",
      "Finished\n"
     ]
    }
   ],
   "source": [
    "i = 1\n",
    "\n",
    "while i <= 5:\n",
    "    print(i)\n",
    "    i = i+1\n",
    "print(\"Finished\")"
   ]
  },
  {
   "cell_type": "markdown",
   "metadata": {},
   "source": [
    "### 2.4.2 `for` Loops\n",
    "\n",
    "A `for` loop is used to iterate over a certain range or a certain list of elements. This is useful when we know that there is a certain number of iterations that we need to perform."
   ]
  },
  {
   "cell_type": "code",
   "execution_count": 56,
   "metadata": {},
   "outputs": [
    {
     "name": "stdout",
     "output_type": "stream",
     "text": [
      "hello\n",
      "world\n",
      "how\n",
      "are\n",
      "you\n"
     ]
    }
   ],
   "source": [
    "for word in [\"hello\", \"world\", \"how\", \"are\", \"you\"]:\n",
    "    print(word)"
   ]
  },
  {
   "cell_type": "markdown",
   "metadata": {},
   "source": [
    "We can also manually define a range using `range()` function, which takes in two parameters: the lower bound of the range and the upper bound of the range.\n",
    "\n",
    "Note that due to the way **`Python`** is designed, the lower bound is always inclusive and the upper bound is always exclusive (i.e., in **`Python`**, `range(0, 10)` is equivalent to $[0,10)$)."
   ]
  },
  {
   "cell_type": "code",
   "execution_count": 57,
   "metadata": {},
   "outputs": [
    {
     "name": "stdout",
     "output_type": "stream",
     "text": [
      "0\n",
      "1\n",
      "2\n",
      "3\n",
      "4\n"
     ]
    }
   ],
   "source": [
    "for i in range(0,5):\n",
    "    print(i)"
   ]
  },
  {
   "cell_type": "markdown",
   "metadata": {},
   "source": [
    "### 2.4.3 Breaking and Continuing the Loop\n",
    "\n",
    "Loops do not have to run until execution. Sometimes we want to exit from the loop early, or continue to the next iteration of the loop.\n",
    "\n",
    "For these cases, **`Python`** defines the commands:\n",
    "\n",
    "- `break` command is used to exit the loop prematurely.\n",
    "- `continue` command is used to start a new iteration of the loop without executing the rest of the code."
   ]
  },
  {
   "cell_type": "code",
   "execution_count": 59,
   "metadata": {},
   "outputs": [
    {
     "name": "stdout",
     "output_type": "stream",
     "text": [
      "0\n",
      "1\n",
      "2\n",
      "3\n"
     ]
    }
   ],
   "source": [
    "# Example of a while loop with a break command\n",
    "i = 0\n",
    "\n",
    "while i<5:\n",
    "    print(i)\n",
    "    if i==3:\n",
    "        break\n",
    "    i = i+1"
   ]
  },
  {
   "cell_type": "markdown",
   "metadata": {},
   "source": [
    "The llop should've printed out 0, 1, 2, 3, 4. However, since we included a `break` command when variable `i` reaches 3, we exited the loop prematurely."
   ]
  },
  {
   "cell_type": "code",
   "execution_count": 60,
   "metadata": {},
   "outputs": [
    {
     "name": "stdout",
     "output_type": "stream",
     "text": [
      "0\n",
      "1\n",
      "2\n",
      "4\n"
     ]
    }
   ],
   "source": [
    "# Example of a for loop with continue command\n",
    "for i in range(0,5):\n",
    "    if i==3:\n",
    "        continue\n",
    "    print(i)"
   ]
  },
  {
   "cell_type": "markdown",
   "metadata": {},
   "source": [
    "In the example above, we used `continue` command to ignore the rest of the code in the loop if `i=3`."
   ]
  },
  {
   "cell_type": "markdown",
   "metadata": {},
   "source": [
    "### 2.4.4 Loops: Exercises"
   ]
  },
  {
   "cell_type": "markdown",
   "metadata": {},
   "source": [
    "<div class=\"alert alert-warning\">\n",
    "<b>EXERCISE (9):</b>\n",
    "\n",
    "Make a list that contains the following elements: \"stock\", \"bond\", \"option\", \"future contract\" and \"forward contract\". Using a while loop iterate over this list and print out every element.\n",
    "</div>"
   ]
  },
  {
   "cell_type": "code",
   "execution_count": 12,
   "metadata": {},
   "outputs": [
    {
     "name": "stdout",
     "output_type": "stream",
     "text": [
      "stock\n",
      "bond\n",
      "option\n",
      "future contract\n",
      "forward contract\n"
     ]
    }
   ],
   "source": [
    "# Solution\n",
    "list_of_things = [\"stock\",\"bond\",\"option\",\"future contract\",\"forward contract\"]\n",
    "len_of = len(list_of_things)\n",
    "i = 0\n",
    "while i < len_of:\n",
    "    print(list_of_things[i])\n",
    "    i = i+1"
   ]
  },
  {
   "cell_type": "markdown",
   "metadata": {},
   "source": [
    "<div class=\"alert alert-warning\">\n",
    "<b>EXERCISE (10):</b>\n",
    "\n",
    "Using the list that you have created in the previous exercise, print every element of it using the for loop.\n",
    "</div>"
   ]
  },
  {
   "cell_type": "code",
   "execution_count": 13,
   "metadata": {},
   "outputs": [
    {
     "name": "stdout",
     "output_type": "stream",
     "text": [
      "stock\n",
      "bond\n",
      "option\n",
      "future contract\n",
      "forward contract\n"
     ]
    }
   ],
   "source": [
    "# Solution\n",
    "list_of_things = [\"stock\",\"bond\",\"option\",\"future contract\",\"forward contract\"]\n",
    "len_of = len(list_of_things)\n",
    "\n",
    "for i in range(len_of):\n",
    "    print(list_of_things[i])"
   ]
  },
  {
   "cell_type": "markdown",
   "metadata": {},
   "source": [
    "<div class=\"alert alert-warning\">\n",
    "<b>EXERCISE (11):</b>\n",
    "\n",
    "Define a range from 0 to 3. Using the for loop print every value in this range.\n",
    "</div>"
   ]
  },
  {
   "cell_type": "code",
   "execution_count": 14,
   "metadata": {},
   "outputs": [
    {
     "name": "stdout",
     "output_type": "stream",
     "text": [
      "0\n",
      "1\n",
      "2\n"
     ]
    }
   ],
   "source": [
    "# Solution\n",
    "new_range = range(0,3)\n",
    "for i in new_range:\n",
    "    print(i)"
   ]
  },
  {
   "cell_type": "markdown",
   "metadata": {},
   "source": [
    "<div class=\"alert alert-warning\">\n",
    "<b>EXERCISE (12):</b>\n",
    "\n",
    "Define a list with elements: \"stock\", \"bond\", \"option\", \"future contract\" and \"forward contract\". Ask the user for an input and save this value as a string called <b>financial_instrument</b>. Iterate over the list of elements and check whether any elements in the list are equal to the variable <b>financial_instument</b> provided by the user, and if there is - break out of the loop and print the value of <b>financial_instument</b>.\n",
    "</div>"
   ]
  },
  {
   "cell_type": "code",
   "execution_count": 16,
   "metadata": {},
   "outputs": [
    {
     "name": "stdout",
     "output_type": "stream",
     "text": [
      "bond\n"
     ]
    }
   ],
   "source": [
    "# Solution\n",
    "\n",
    "list_of_things = [\"stock\",\"bond\",\"option\",\"future contract\",\"forward contract\"]\n",
    "financial_instrument = input(\"Type instrument\")\n",
    "\n",
    "i = 0\n",
    "while i < len_of:\n",
    "    #print(list_of_things[i])\n",
    "    if(list_of_things[i] == financial_instrument):\n",
    "        print(financial_instrument)\n",
    "        break\n",
    "    i = i+1\n",
    "    \n"
   ]
  },
  {
   "cell_type": "markdown",
   "metadata": {},
   "source": [
    "## 2.5 Functions\n",
    "\n",
    "We have seen some examples of functions such as `print()` and `input()`, now we can look at how to define these functions ourselves.\n",
    "\n",
    "A **function** is a collection of statements (i.e., a block of code), which can be executed or used whenever you want in the program.\n",
    "\n",
    "A function in python has the following structure:\n",
    "\n",
    "$\\overbrace{function}^{\\text{name}}\\underbrace{(foo,bar)}_{\\text{arguments}}$\n",
    "\n",
    "The **arguments** are the parameters of the function, which the function will evaluate to produce some result.\n",
    "\n",
    "To define a function we use `def` keyword followed by the name of the function and its argumentsin the brackets."
   ]
  },
  {
   "cell_type": "code",
   "execution_count": 61,
   "metadata": {},
   "outputs": [],
   "source": [
    "def print_x(x):\n",
    "    print(x)"
   ]
  },
  {
   "cell_type": "markdown",
   "metadata": {},
   "source": [
    "Once the function is defined we call it by its name and provide the arguments that we want to evaluate."
   ]
  },
  {
   "cell_type": "code",
   "execution_count": 62,
   "metadata": {},
   "outputs": [
    {
     "name": "stdout",
     "output_type": "stream",
     "text": [
      "30\n"
     ]
    }
   ],
   "source": [
    "print_x(30)"
   ]
  },
  {
   "cell_type": "markdown",
   "metadata": {},
   "source": [
    "<br>\n",
    "<div class=\"alert alert-danger\">\n",
    "<b>WARNING: </b>Note that we can only use function after it was defined.</div>"
   ]
  },
  {
   "cell_type": "markdown",
   "metadata": {},
   "source": [
    "Functions can have multiple arguments:"
   ]
  },
  {
   "cell_type": "code",
   "execution_count": 63,
   "metadata": {},
   "outputs": [
    {
     "name": "stdout",
     "output_type": "stream",
     "text": [
      "8\n"
     ]
    }
   ],
   "source": [
    "def sum_x_and_y(x,y):\n",
    "    print(x+y)\n",
    "\n",
    "sum_x_and_y(3, 5)"
   ]
  },
  {
   "cell_type": "markdown",
   "metadata": {},
   "source": [
    "Very often we use functions to create a block of code that is reusable so that we only need to define it once instead of re-writing the same statements every time we need them. This makes code much easier to interpret and also takes less memory on our computers.\n",
    "\n",
    "However, often we also want to return some values from functions into the main block of code, which is why we use `return` keyword.\n",
    "\n",
    "The `return` keyword returns some variable from function to the main block of code."
   ]
  },
  {
   "cell_type": "code",
   "execution_count": 64,
   "metadata": {},
   "outputs": [
    {
     "name": "stdout",
     "output_type": "stream",
     "text": [
      "False\n",
      "False\n",
      "True\n",
      "False\n"
     ]
    }
   ],
   "source": [
    "def is_it_seven(x):\n",
    "    if x == 7:\n",
    "        var = True\n",
    "        return var\n",
    "    else:\n",
    "        return False\n",
    "    \n",
    "for i in range(5, 9):\n",
    "    function_output = is_it_seven(i)\n",
    "    print(function_output)"
   ]
  },
  {
   "cell_type": "markdown",
   "metadata": {},
   "source": [
    "Inside functions we can leave a **docstring**, which describes what this function does. This information will be displayed by our editor for our convenience.\n",
    "\n",
    "The **docstring** is a string that is places at the top of the function inside **`\"\"\" \"\"\"`** to describe the code inside of the function."
   ]
  },
  {
   "cell_type": "code",
   "execution_count": 65,
   "metadata": {},
   "outputs": [],
   "source": [
    "def some_function(x):\n",
    "    \"\"\"This is the docstring of this function.\"\"\"\n",
    "    return x"
   ]
  },
  {
   "cell_type": "code",
   "execution_count": 66,
   "metadata": {},
   "outputs": [
    {
     "data": {
      "text/plain": [
       "5"
      ]
     },
     "execution_count": 66,
     "metadata": {},
     "output_type": "execute_result"
    }
   ],
   "source": [
    "some_function(5)"
   ]
  },
  {
   "cell_type": "markdown",
   "metadata": {},
   "source": [
    "### 2.5.1 Examples of Common Functions\n",
    "\n",
    "**`Python`** has some functions that are very common, whcih are made available upon installation."
   ]
  },
  {
   "cell_type": "markdown",
   "metadata": {},
   "source": [
    "`range()` function creates a range of whole numbers between the two points that you provide as arguments, and uses a step argument to increment the values in this range."
   ]
  },
  {
   "cell_type": "code",
   "execution_count": 75,
   "metadata": {},
   "outputs": [
    {
     "name": "stdout",
     "output_type": "stream",
     "text": [
      "-2\n",
      "-1\n",
      "0\n",
      "1\n",
      "2\n"
     ]
    }
   ],
   "source": [
    "start = -2\n",
    "stop = 3\n",
    "# Step can only be an integer value in the range function\n",
    "step = 1\n",
    "\n",
    "for i in range(start, stop, step):\n",
    "    print(i)"
   ]
  },
  {
   "cell_type": "code",
   "execution_count": 76,
   "metadata": {},
   "outputs": [
    {
     "name": "stdout",
     "output_type": "stream",
     "text": [
      "-2\n",
      "0\n",
      "2\n"
     ]
    }
   ],
   "source": [
    "start = -2\n",
    "stop = 3\n",
    "new_step = 2\n",
    "\n",
    "for i in range(start, stop, new_step):\n",
    "    print(i)"
   ]
  },
  {
   "cell_type": "markdown",
   "metadata": {},
   "source": [
    "`len()` function returns the length of a list, array or other data construction that constaints multiple elements."
   ]
  },
  {
   "cell_type": "code",
   "execution_count": 77,
   "metadata": {},
   "outputs": [
    {
     "data": {
      "text/plain": [
       "4"
      ]
     },
     "execution_count": 77,
     "metadata": {},
     "output_type": "execute_result"
    }
   ],
   "source": [
    "data_structure = [1, 2, 3, 4]\n",
    "len(data_structure)"
   ]
  },
  {
   "cell_type": "markdown",
   "metadata": {},
   "source": [
    "### 2.5.2 Functions: Exercises"
   ]
  },
  {
   "cell_type": "markdown",
   "metadata": {},
   "source": [
    "<div class=\"alert alert-warning\">\n",
    "<b>EXERCISE (13):</b>\n",
    "\n",
    "Define a function called <b>validate_input</b> that takes in one float argument. Inside this function, prompt the user to give you a number. Then check that the value provided by the user is the same as the argument of the function. Return True if the values coincide, and return Flase otherwise.\n",
    "</div>"
   ]
  },
  {
   "cell_type": "code",
   "execution_count": 21,
   "metadata": {},
   "outputs": [
    {
     "data": {
      "text/plain": [
       "True"
      ]
     },
     "execution_count": 21,
     "metadata": {},
     "output_type": "execute_result"
    }
   ],
   "source": [
    "# Solution\n",
    "def validate_input(x):\n",
    "    user_num = float(input(\"Give me a number\"))\n",
    "    if user_num == x:\n",
    "        return True\n",
    "    else:\n",
    "        return False\n",
    "\n",
    "validate_input(5.1)\n",
    "\n"
   ]
  },
  {
   "cell_type": "markdown",
   "metadata": {},
   "source": [
    "<div class=\"alert alert-warning\">\n",
    "<b>EXERCISE (14):</b>\n",
    "\n",
    "Define a range that goes from -20 to plus 20, but in steps of 4. Print every element of this range.\n",
    "</div>"
   ]
  },
  {
   "cell_type": "code",
   "execution_count": 14,
   "metadata": {},
   "outputs": [],
   "source": [
    "# Solution"
   ]
  },
  {
   "cell_type": "markdown",
   "metadata": {},
   "source": [
    "<div class=\"alert alert-warning\">\n",
    "<b>EXERCISE (15):</b>\n",
    "\n",
    "In mathematics, we can write the value $e^{x}$ using the Maclaurin series as:\n",
    "$$e^{x} = \\sum^{\\infty}_{n=0}\\frac{x^{n}}{n!} = 1+x+\\frac{x^{2}}{2!}+\\frac{x^{3}}{3!}+...$$\n",
    "Write a function in Python that takes x as an argument and returns the value $e^{x}$ approximated to the $\\mathcal{O}(x^{7})$.\n",
    "</div>"
   ]
  },
  {
   "cell_type": "code",
   "execution_count": 15,
   "metadata": {},
   "outputs": [],
   "source": [
    "# Solution\n",
    "import numpy as np\n",
    "np.exp()"
   ]
  },
  {
   "cell_type": "markdown",
   "metadata": {},
   "source": [
    "<div class=\"alert alert-warning\">\n",
    "<b>EXERCISE (16):</b>\n",
    "\n",
    "We can define a hyperbolic sin function as:\n",
    "$$sinh(x) = \\frac{e^{x}-e^{-x}}{2}$$\n",
    "Using the function you have written in the previous exercise, create a new function called <b>sinh</b> that returns the value of the hyperbolic sin function.\n",
    "</div>"
   ]
  },
  {
   "cell_type": "code",
   "execution_count": 16,
   "metadata": {},
   "outputs": [],
   "source": [
    "# Solution"
   ]
  },
  {
   "cell_type": "markdown",
   "metadata": {},
   "source": [
    "# 2.6 Scope\n",
    "\n",
    "We are free to choose what to call our variables and where to initiate them (i.e., in **`Python`**: where do we assign some value to the variable for the first time).\n",
    "\n",
    "However, if we define some variables in some part of the code, it will not automatically be present in the different part of code. We refer to this concept as **scope**.\n",
    "\n",
    "The **scope** is a domain of the code over which a variable, function or other abstraction is defined.\n",
    "\n",
    "If a variable is defined inside a function, it will not be present in the main body of the cody, while is a variable is defined in the main body of the code - our function can still access it."
   ]
  },
  {
   "cell_type": "code",
   "execution_count": 68,
   "metadata": {},
   "outputs": [
    {
     "name": "stdout",
     "output_type": "stream",
     "text": [
      "3\n",
      "9\n"
     ]
    }
   ],
   "source": [
    "variable_main_body = 3\n",
    "\n",
    "def test_function(x):\n",
    "    variable_function = x+4\n",
    "    print(variable_main_body)\n",
    "    return variable_function\n",
    "\n",
    "result = test_function(5)\n",
    "print(result)\n",
    "# If we execute the code below we will get an error, since variable_function is not in the scope of the main function\n",
    "# print(variable_function)"
   ]
  },
  {
   "cell_type": "markdown",
   "metadata": {},
   "source": [
    "We can think of **scope** as all the components of our program that we can see from a specified place. In the example above, the main body of our program does not know that the variable `variable_function` exists, so if we try to print it we will get an error.\n",
    "\n",
    "Contrary, we defined the function `test_function()` inside the main program, so ir can see everythin that exists in the main body of the code, which is why it can use variable `variable_main_body` without rasing an error."
   ]
  },
  {
   "cell_type": "markdown",
   "metadata": {},
   "source": [
    "## 2.7 Modules\n",
    "\n",
    "We have downloaded some **modules** during the installation process using `pip`. Majority of **`Python`** modules are stored in an online repository called **`PyPI`**.\n",
    "\n",
    "A **module** is a piece of code that (usually) other people have written to fulfill common tasks, such as getting random numbers, performing mathematical operations, etc.\n",
    "\n",
    "In order to use the utilities from the module (e.g., functions, classes, etc.), we need to import the module into the main body of our program (i.e., bring it into scope), as these modules are not imported by default.\n",
    "\n",
    "In **`Python `**, we use `import` keyword to import the module. The modules are imported once at the top of **`Python`** scripts and files.\n",
    "\n",
    "If the module name is very long, we can use `as` keyword, so that when we import the module we can reference it by an acronym of our choice."
   ]
  },
  {
   "cell_type": "code",
   "execution_count": 70,
   "metadata": {},
   "outputs": [
    {
     "name": "stdout",
     "output_type": "stream",
     "text": [
      "[2 3]\n",
      "[2 3]\n"
     ]
    }
   ],
   "source": [
    "# Example of importing numpy\n",
    "import numpy\n",
    "v = numpy.array([2, 3])\n",
    "print(v)\n",
    "\n",
    "# Example of importing numpy as np\n",
    "import numpy as np\n",
    "v = np.array([2, 3])\n",
    "print(v)"
   ]
  },
  {
   "cell_type": "markdown",
   "metadata": {},
   "source": [
    "We can access functions or classes inside the module by using the `.` after the module:\n",
    "\n",
    "$\\overbrace{numpy}^{\\text{module}}.\\underbrace{array()}_{\\text{function}}$"
   ]
  },
  {
   "cell_type": "markdown",
   "metadata": {},
   "source": [
    "However, sometimes we don't need to import everything from a module as it will clutter our RAM.\n",
    "\n",
    "To import a specific abstraction from the module we use `from` keyword:"
   ]
  },
  {
   "cell_type": "code",
   "execution_count": 71,
   "metadata": {},
   "outputs": [
    {
     "name": "stdout",
     "output_type": "stream",
     "text": [
      "[2 3]\n"
     ]
    }
   ],
   "source": [
    "from numpy import array\n",
    "v = array([2, 3])\n",
    "print(v)"
   ]
  },
  {
   "cell_type": "markdown",
   "metadata": {},
   "source": [
    "### 2.7.1 Modules: Exerices"
   ]
  },
  {
   "cell_type": "markdown",
   "metadata": {},
   "source": [
    "<div class=\"alert alert-warning\">\n",
    "<b>EXERCISE (17):</b>\n",
    "\n",
    "Import pandas module, but as pd.\n",
    "</div>"
   ]
  },
  {
   "cell_type": "code",
   "execution_count": 17,
   "metadata": {},
   "outputs": [],
   "source": [
    "# Solution\n",
    "import pandas as pd"
   ]
  },
  {
   "cell_type": "markdown",
   "metadata": {},
   "source": [
    "## 2.8 Standard Library\n",
    "\n",
    "There are three main types of modules in Python: \n",
    "- Those that are preinstalled with Python \n",
    "- Those you install from external sources (As you have already done in some of the exercises)\n",
    "- Those you write yourself\n",
    "\n",
    "The first type is called the **standard library**, and contains many useful modules. Some of the standard library's modules include **`sting`**,**`re`**, **`datetime`**, **`math`**, **`random`**, **`os`**, **`multiprocessing`**, **`subprocess`**, **`socket`**, **`email`**, **`json`**, **`doctest`**, **`unittest`**, **`pdb`**, **`argparse`** and **`sys`**.\n",
    "\n",
    "Tasks that can be done by the standard library include string parsing, data serialization, testing, debugging and manipulating dates, emails, command line arguments, and much more.\n",
    "\n",
    "Some modules in the standard library are written in Python, and some are written in C. Most are available on all platforms, but some are Windows or Unix specific."
   ]
  },
  {
   "cell_type": "markdown",
   "metadata": {},
   "source": [
    "## 2.9 Data Structures and Indexing\n",
    "\n",
    "Often, data that we need to work with contains many data points (e.g., stock price at different time), so it is convenient to define data structures that will hold that data in one place. This allows us to quickly find the data and easily reference it.\n",
    "\n",
    "Note that most data structures defined here such as **lists**, **dictionaries** and **tuples** <mark>can contain other data structures inside</mark> (e.g., dictionary can contain lists of tuples)."
   ]
  },
  {
   "cell_type": "markdown",
   "metadata": {},
   "source": [
    "### 2.9.1 Lists\n",
    "\n",
    "A **list** is a collection of elements.\n",
    "\n",
    "**Lists** can be defined by including the elements into the square brackets `[]`."
   ]
  },
  {
   "cell_type": "code",
   "execution_count": 19,
   "metadata": {},
   "outputs": [
    {
     "name": "stdout",
     "output_type": "stream",
     "text": [
      "[1, 6, 'hello'] \t <class 'list'>\n"
     ]
    }
   ],
   "source": [
    "some_list = [1, 6, \"hello\"]\n",
    "print(some_list, \"\\t\", type(some_list))"
   ]
  },
  {
   "cell_type": "markdown",
   "metadata": {},
   "source": [
    "In order to access and grab specific elements of a list we use `[]` after the list, specifying the index of the desired element."
   ]
  },
  {
   "cell_type": "markdown",
   "metadata": {},
   "source": [
    "<div class=\"alert alert-info\">\n",
    "<b>HINT: </b>Indices in Python start at 0. If you want to grab second element of the list, its index is 1.</div>"
   ]
  },
  {
   "cell_type": "code",
   "execution_count": 20,
   "metadata": {},
   "outputs": [
    {
     "data": {
      "text/plain": [
       "6"
      ]
     },
     "execution_count": 20,
     "metadata": {},
     "output_type": "execute_result"
    }
   ],
   "source": [
    "# Get an element of a list\n",
    "some_list[1]"
   ]
  },
  {
   "cell_type": "markdown",
   "metadata": {},
   "source": [
    "This notation can be used in reverse, to get items at the end of the list:"
   ]
  },
  {
   "cell_type": "code",
   "execution_count": 21,
   "metadata": {},
   "outputs": [
    {
     "data": {
      "text/plain": [
       "'hello'"
      ]
     },
     "execution_count": 21,
     "metadata": {},
     "output_type": "execute_result"
    }
   ],
   "source": [
    "some_list[-1]"
   ]
  },
  {
   "cell_type": "markdown",
   "metadata": {},
   "source": [
    "We can retrieve multiple consecutive elements from a list using the slice notation `[start:end]`, where `start` is the first item in the sequence and `end` is the item after the last item that we want to get.\n",
    "\n",
    "For example, for a list `[0, 1, 2, 3, 4, 5, 6, 7, 8, 9]`, if we want to grab elements `1`, `2` and `3` we use:"
   ]
  },
  {
   "cell_type": "code",
   "execution_count": 13,
   "metadata": {},
   "outputs": [
    {
     "name": "stdout",
     "output_type": "stream",
     "text": [
      "[1, 2, 3]\n",
      "[9, 8, 7, 6, 5, 4, 3, 2, 1, 0]\n"
     ]
    }
   ],
   "source": [
    "some_list = [0, 1, 2, 3, 4, 5, 6, 7, 8, 9]\n",
    "print(some_list[1:4])"
   ]
  },
  {
   "cell_type": "markdown",
   "metadata": {},
   "source": [
    "Notethat we don't need to provide a start or an end:"
   ]
  },
  {
   "cell_type": "code",
   "execution_count": 14,
   "metadata": {},
   "outputs": [
    {
     "name": "stdout",
     "output_type": "stream",
     "text": [
      "[0, 1, 2, 3]\n"
     ]
    }
   ],
   "source": [
    "print(some_list[:4])"
   ]
  },
  {
   "cell_type": "markdown",
   "metadata": {},
   "source": [
    "We can also use the slice notation to get elements at certain intervals and even reverse the list:"
   ]
  },
  {
   "cell_type": "code",
   "execution_count": 16,
   "metadata": {},
   "outputs": [
    {
     "name": "stdout",
     "output_type": "stream",
     "text": [
      "[0, 2, 4, 6, 8]\n",
      "[9, 8, 7, 6, 5, 4, 3, 2, 1, 0]\n"
     ]
    }
   ],
   "source": [
    "# Example of slice notation used to get every 2nd element\n",
    "print(some_list[::2])\n",
    "\n",
    "# Example of slice notation used to get every element, but in reverse\n",
    "print(some_list[::-1])"
   ]
  },
  {
   "cell_type": "markdown",
   "metadata": {},
   "source": [
    "### 2.9.2 Dicrionaries\n",
    "\n",
    "A **dictionary** is a collection of keys and values, such that each value has its own unique key.\n",
    "\n",
    "**Dictionaries** can be defined by either `dict()` keyword or by `{key:value}` notation (note that `key` in this notation must be a string)."
   ]
  },
  {
   "cell_type": "code",
   "execution_count": 83,
   "metadata": {},
   "outputs": [
    {
     "name": "stdout",
     "output_type": "stream",
     "text": [
      "{'key_0': 'value_0', 'key_1': 'value_1'} \t <class 'dict'>\n",
      "{'key_0': 'value_0', 'key_1': 'value_1'} \t <class 'dict'>\n"
     ]
    }
   ],
   "source": [
    "# Example of dictionary definition using dict()\n",
    "some_dict = dict(key_0=\"value_0\", key_1=\"value_1\")\n",
    "print(some_dict, \"\\t\", type(some_dict))\n",
    "\n",
    "# Example of dictionary definition using {key:value}\n",
    "some_new_dict = {\"key_0\":\"value_0\", \"key_1\":\"value_1\"}\n",
    "print(some_new_dict, \"\\t\", type(some_new_dict))"
   ]
  },
  {
   "cell_type": "markdown",
   "metadata": {},
   "source": [
    "In order to get items from a dictionary, we need to use the key that is assocciated with the value we want to get."
   ]
  },
  {
   "cell_type": "code",
   "execution_count": 17,
   "metadata": {},
   "outputs": [
    {
     "name": "stdout",
     "output_type": "stream",
     "text": [
      "hello\n"
     ]
    }
   ],
   "source": [
    "some_dict = {\"key_0\":20, \"key_1\":\"hello\"}\n",
    "print(some_dict[\"key_1\"])"
   ]
  },
  {
   "cell_type": "markdown",
   "metadata": {},
   "source": [
    "### 2.9.3 Tuples\n",
    "\n",
    "A **tuple** is an immutable list, which means that the values inside of it cannot be changed.\n",
    "\n",
    "**Tuples** are defined by including elements into the round brackets `()` or by using `tuple()` data type conversion from a list."
   ]
  },
  {
   "cell_type": "code",
   "execution_count": 86,
   "metadata": {},
   "outputs": [
    {
     "name": "stdout",
     "output_type": "stream",
     "text": [
      "(1, 2) \t <class 'tuple'>\n",
      "(1, 2) \t <class 'tuple'>\n"
     ]
    }
   ],
   "source": [
    "# Example of tuple definition using ()\n",
    "some_tuple = (1, 2)\n",
    "print(some_tuple, \"\\t\", type(some_tuple))\n",
    "\n",
    "# Example of tuple definition using tuple([])\n",
    "some_new_tuple = tuple([1, 2])\n",
    "print(some_new_tuple, \"\\t\", type(some_new_tuple))"
   ]
  },
  {
   "cell_type": "markdown",
   "metadata": {},
   "source": [
    "To access values inside a tuple we use exactly the same technique as with lists:"
   ]
  },
  {
   "cell_type": "code",
   "execution_count": 18,
   "metadata": {},
   "outputs": [
    {
     "name": "stdout",
     "output_type": "stream",
     "text": [
      "4\n"
     ]
    }
   ],
   "source": [
    "some_tuple = (1, 2, 3, 4, 5, 6, 7)\n",
    "print(some_tuple[3])"
   ]
  },
  {
   "cell_type": "markdown",
   "metadata": {},
   "source": [
    "### 2.9.4 NumPy Arrays\n",
    "\n",
    "A **NumPy array** is a vector of elements.\n",
    "\n",
    "**Arrays** can be defined by using one of the following functions inside **`NumPy`** module:\n",
    "\n",
    "| Funcion   |  Description  |\n",
    "| :---        |    :---   |\n",
    "| `array` |  Convert input data (list, tuple, array, or other sequence type) to an ndarray either by inferring a dtype or explicitly specifying a dtype. Copies the input data by default.|\n",
    "| `asarray` | Convert input to ndarray, but do not copy if the input is already an ndarray |\n",
    "| `arange`  | Like the built-in range but returns an ndarray instead of a list. |\n",
    "| `ones` | Produce an array of all 1’s with the given shape and dtype. ones_like takes another array and produces a ones array of the same shape and dtype. |\n",
    "| `zeros` |Like ones and ones_like but producing arrays of 0’s instead|\n",
    "| `empty` |Create new arrays by allocating new memory, but do not populate with any values like ones and zeros|\n",
    "| `eye`  |Create a square N x N identity matrix (1’s on the diagonal and 0’s elsewhere)|"
   ]
  },
  {
   "cell_type": "code",
   "execution_count": 88,
   "metadata": {},
   "outputs": [
    {
     "name": "stdout",
     "output_type": "stream",
     "text": [
      "['hello' 'world'] \t <class 'numpy.ndarray'>\n",
      "[0.  0.5 1.  1.5 2.  2.5 3.  3.5 4.  4.5] \t <class 'numpy.ndarray'>\n",
      "[0. 0. 0. 0.] \t <class 'numpy.ndarray'>\n"
     ]
    }
   ],
   "source": [
    "import numpy as np\n",
    "\n",
    "# Example of array definition using array()\n",
    "some_array = np.array([\"hello\", \"world\"])\n",
    "print(some_array, \"\\t\", type(some_array))\n",
    "\n",
    "# Example of array definition using ranage()\n",
    "some_array_1 = np.arange(0, 5, 0.5)\n",
    "print(some_array_1, \"\\t\", type(some_array_1))\n",
    "\n",
    "# Example of array of zeros\n",
    "zeros_array = np.zeros(4)\n",
    "print(zeros_array, \"\\t\", type(zeros_array))"
   ]
  },
  {
   "cell_type": "markdown",
   "metadata": {},
   "source": [
    "Using arrays we can also define matrices, these are arrays of arrays."
   ]
  },
  {
   "cell_type": "code",
   "execution_count": 90,
   "metadata": {},
   "outputs": [
    {
     "name": "stdout",
     "output_type": "stream",
     "text": [
      "[[1 2]\n",
      " [3 4]]\n"
     ]
    }
   ],
   "source": [
    "import numpy as np\n",
    "\n",
    "first_row = np.array([1, 2])\n",
    "second_row = np.array([3, 4])\n",
    "matrix = np.array([first_row, second_row])\n",
    "print(matrix)"
   ]
  },
  {
   "cell_type": "markdown",
   "metadata": {},
   "source": [
    "We can also define a zero matrix and identity matrix using convenient functions from **`NumPy`**:"
   ]
  },
  {
   "cell_type": "code",
   "execution_count": 94,
   "metadata": {},
   "outputs": [
    {
     "name": "stdout",
     "output_type": "stream",
     "text": [
      "[[0. 0. 0.]\n",
      " [0. 0. 0.]]\n",
      "\n",
      "\n",
      "[[1. 0. 0.]\n",
      " [0. 1. 0.]\n",
      " [0. 0. 1.]]\n"
     ]
    }
   ],
   "source": [
    "import numpy as np\n",
    "\n",
    "# Zero matrix\n",
    "zero_matrix = np.zeros((2, 3))\n",
    "print(zero_matrix)\n",
    "\n",
    "print(\"\\n\")\n",
    "\n",
    "# Identity matrix\n",
    "identity_matrix = np.eye(3)\n",
    "print(identity_matrix)"
   ]
  },
  {
   "cell_type": "markdown",
   "metadata": {},
   "source": [
    "We can get elements from an array using the `[]` notation:"
   ]
  },
  {
   "cell_type": "code",
   "execution_count": 31,
   "metadata": {},
   "outputs": [
    {
     "name": "stdout",
     "output_type": "stream",
     "text": [
      "3\n",
      "[1 2]\n",
      "[1 3]\n",
      "2\n"
     ]
    }
   ],
   "source": [
    "import numpy as np\n",
    "\n",
    "# Get 2nd element in an array\n",
    "some_array = np.array([1, 2, 3, 4, 5])\n",
    "print(some_array[2])\n",
    "\n",
    "# Get first row inside the matrix\n",
    "some_matrix = np.array([[1, 2], [3, 4]])\n",
    "print(some_matrix[0])\n",
    "\n",
    "# Get first column inside the matrix\n",
    "print(some_matrix[:,0])\n",
    "\n",
    "# Get element in first row and second column in the matrix\n",
    "print(some_matrix[0,1])"
   ]
  },
  {
   "cell_type": "markdown",
   "metadata": {},
   "source": [
    "### 2.9.5 Data Structures and Indexing: Exercises"
   ]
  },
  {
   "cell_type": "markdown",
   "metadata": {},
   "source": [
    "<div class=\"alert alert-warning\">\n",
    "<b>EXERCISE (18):</b>\n",
    "\n",
    "Create a list that contains elements: 1, 2, 3, 4, 5, 6. From this list return the elements 2, 3, 4.\n",
    "</div>"
   ]
  },
  {
   "cell_type": "code",
   "execution_count": 24,
   "metadata": {},
   "outputs": [
    {
     "name": "stdout",
     "output_type": "stream",
     "text": [
      "[3, 4, 5]\n"
     ]
    }
   ],
   "source": [
    "# Solution\n",
    "new_list = [1,2,3,4,5,6]\n",
    "print(new_list[2:5])"
   ]
  },
  {
   "cell_type": "markdown",
   "metadata": {},
   "source": [
    "<div class=\"alert alert-warning\">\n",
    "<b>EXERCISE (19):</b>\n",
    "\n",
    "Using the list from the exercise above, return every second element from the list, but in reverse (i.e., [6, 4, 2]).\n",
    "</div>"
   ]
  },
  {
   "cell_type": "code",
   "execution_count": 19,
   "metadata": {},
   "outputs": [],
   "source": [
    "# Solution"
   ]
  },
  {
   "cell_type": "markdown",
   "metadata": {},
   "source": [
    "<div class=\"alert alert-warning\">\n",
    "<b>EXERCISE (20):</b>\n",
    "\n",
    "Create two lists: <b>list_1</b> and <b>list_2</b>, and populate these lists with some elements. Now, create a dictionary that uses these two lists as two different values and assigns the respective keys to each one (e.g., \"key_1\" and \"key_2\"). Try to get the first element from the second list nested inside the dictionary.\n",
    "</div>"
   ]
  },
  {
   "cell_type": "code",
   "execution_count": 20,
   "metadata": {},
   "outputs": [],
   "source": [
    "# Solution"
   ]
  },
  {
   "cell_type": "markdown",
   "metadata": {},
   "source": [
    "<div class=\"alert alert-warning\">\n",
    "<b>EXERCISE (21):</b>\n",
    "\n",
    "Import numpy and use its array function to create a matrix:\n",
    "$$\\begin{bmatrix} 0 & 1 & 1 \\\\ 2 & 3 & 5 \\\\ 8 & 13 & 21 \\end{bmatrix}$$\n",
    "Iterate over every element in this matrix, and print elements row by row (i.e., print 0, 1, 1, 2, ...). For this you may want to use one for loop nested into another.\n",
    "\n",
    "Does the printed result remind you of any famous sequence?\n",
    "</div>"
   ]
  },
  {
   "cell_type": "code",
   "execution_count": 26,
   "metadata": {},
   "outputs": [
    {
     "name": "stdout",
     "output_type": "stream",
     "text": [
      "[[ 0  1  1]\n",
      " [ 2  3  5]\n",
      " [ 8 13 21]]\n"
     ]
    }
   ],
   "source": [
    "# Solution\n",
    "import numpy as np\n",
    "first_row = [0,1,1]\n",
    "second_row = [2,3,5]\n",
    "third_row = [8,13,21]\n",
    "matrix = np.array([first_row, second_row, third_row])\n",
    "\n",
    "print(matrix)\n"
   ]
  },
  {
   "cell_type": "markdown",
   "metadata": {},
   "source": [
    "## 2.10 List Comprehension\n",
    "\n",
    "**List comprehension** is a task of running through an existing list and for each element of that list creating a new element in a new list.\n",
    "\n",
    "**List comprehension** is defined by `[f(i) for i in some_list]`, where `some_list` is the existing list, `i` is an element inside `some_list`, and `f(i)` is some function or expression that we perform with `i`.\n",
    "\n",
    "We can think of **list comprehension** as a mapping from an existing list to a new list."
   ]
  },
  {
   "cell_type": "code",
   "execution_count": 33,
   "metadata": {},
   "outputs": [
    {
     "name": "stdout",
     "output_type": "stream",
     "text": [
      "[2, 4, 6, 8]\n"
     ]
    }
   ],
   "source": [
    "existing_list = [1, 2, 3, 4]\n",
    "new_list = [i*2 for i in existing_list]\n",
    "print(new_list)"
   ]
  },
  {
   "cell_type": "markdown",
   "metadata": {},
   "source": [
    "List comprehension can be used in more complex settings.\n",
    "\n",
    "For example:"
   ]
  },
  {
   "cell_type": "code",
   "execution_count": 37,
   "metadata": {},
   "outputs": [
    {
     "name": "stdout",
     "output_type": "stream",
     "text": [
      "['1h', '2e', '3l', '4l', '5o']\n"
     ]
    }
   ],
   "source": [
    "list_0 = [\"1\", \"2\", \"3\", \"4\", \"5\"]\n",
    "list_1 = [\"h\", \"e\", \"l\", \"l\", \"o\"]\n",
    "new_list = [list_0[int(i)-1]+list_1[int(i)-1] for i in list_0]\n",
    "print(new_list)"
   ]
  },
  {
   "cell_type": "markdown",
   "metadata": {},
   "source": [
    "### 2.10.1 `in` Operator\n",
    "\n",
    "We have seen the use of `in` operator when we were looking at the `for` loop.\n",
    "\n",
    "`in` operator checks that if an element exists inside a list, and returns True or False value."
   ]
  },
  {
   "cell_type": "code",
   "execution_count": 39,
   "metadata": {},
   "outputs": [
    {
     "name": "stdout",
     "output_type": "stream",
     "text": [
      "True\n",
      "False\n"
     ]
    }
   ],
   "source": [
    "some_list = [1, 2, 3, 4, 5]\n",
    "print(1 in some_list)\n",
    "\n",
    "print(50 in some_list)"
   ]
  },
  {
   "cell_type": "markdown",
   "metadata": {},
   "source": [
    "We can combine `in` operator with `not` operator in the same statement to check if the converse is true:"
   ]
  },
  {
   "cell_type": "code",
   "execution_count": 41,
   "metadata": {},
   "outputs": [
    {
     "name": "stdout",
     "output_type": "stream",
     "text": [
      "True\n",
      "False\n"
     ]
    }
   ],
   "source": [
    "some_list = [2, 3, 4, 5,]\n",
    "print(not 1 in some_list)\n",
    "\n",
    "print(not 2 in some_list)"
   ]
  },
  {
   "cell_type": "markdown",
   "metadata": {},
   "source": [
    "### 2.10.2 List Comprehension: Exercises"
   ]
  },
  {
   "cell_type": "markdown",
   "metadata": {},
   "source": [
    "<div class=\"alert alert-warning\">\n",
    "<b>EXERCISE (22):</b>\n",
    "\n",
    "Create a list with elements 4, 5 and 6. Use list comprehension to return the list of remainders of division by 2.\n",
    "</div>"
   ]
  },
  {
   "cell_type": "code",
   "execution_count": 22,
   "metadata": {},
   "outputs": [],
   "source": [
    "# Solution"
   ]
  },
  {
   "cell_type": "markdown",
   "metadata": {},
   "source": [
    "## 2.11 Exceptions and Error Handling\n",
    "\n",
    "Any programming language imposes constraints on how we can use it (i.e., we cannot divide by 0), and **`Python`** isn't any different.\n",
    "\n",
    "To alarm us that something didn't go according to plan, **`Python`** uses **exceptions**.\n",
    "\n",
    "An **exception** is a predefned error type that stops the program when the program encounters it.\n",
    "\n",
    "Here is an example of an exception:"
   ]
  },
  {
   "cell_type": "code",
   "execution_count": 42,
   "metadata": {},
   "outputs": [
    {
     "ename": "ZeroDivisionError",
     "evalue": "division by zero",
     "output_type": "error",
     "traceback": [
      "\u001b[1;31m---------------------------------------------------------------------------\u001b[0m",
      "\u001b[1;31mZeroDivisionError\u001b[0m                         Traceback (most recent call last)",
      "\u001b[1;32mc:\\Users\\Rem\\Documents\\Documents\\PhD\\Postgraduate Teaching Assistant\\Digital Finance 2023-2024\\New Code Repository\\workshops\\Workshop 1, Part 1.ipynb Cell 189\u001b[0m line \u001b[0;36m1\n\u001b[1;32m----> <a href='vscode-notebook-cell:/c%3A/Users/Rem/Documents/Documents/PhD/Postgraduate%20Teaching%20Assistant/Digital%20Finance%202023-2024/New%20Code%20Repository/workshops/Workshop%201%2C%20Part%201.ipynb#Y423sZmlsZQ%3D%3D?line=0'>1</a>\u001b[0m \u001b[39m3\u001b[39;49m\u001b[39m/\u001b[39;49m\u001b[39m0\u001b[39;49m\n",
      "\u001b[1;31mZeroDivisionError\u001b[0m: division by zero"
     ]
    }
   ],
   "source": [
    "3/0"
   ]
  },
  {
   "cell_type": "markdown",
   "metadata": {},
   "source": [
    "There are some common exceptions that are defined in **`Python`**:\n",
    "\n",
    "| Exception | Description |\n",
    "| --- | --- |\n",
    "| `ModuleNotFoundError` | The module being imported cannot be found in the system |\n",
    "| `IndexError` | The index is either out of range or is not appropriately defined |\n",
    "| `NameError` | An unknown variable or function was used |\n",
    "| `TypeError` | Inappropriate value type was called |\n",
    "| `ValueError` | The variable is out of range (i.e., it is not appropriately defined for the purpose it is used) |\n",
    "| `ZeroDivisionError` | Division by 0 is encountered |\n",
    "\n",
    "**`Python`** also allows us to implement our own exceptions using the `Exception` class.\n",
    "\n",
    "In our code we can raise these exceptions to stop the program in runtime using the `raise` keyword:"
   ]
  },
  {
   "cell_type": "code",
   "execution_count": 43,
   "metadata": {},
   "outputs": [
    {
     "ename": "ValueError",
     "evalue": "The value of x cannot be negative.",
     "output_type": "error",
     "traceback": [
      "\u001b[1;31m---------------------------------------------------------------------------\u001b[0m",
      "\u001b[1;31mValueError\u001b[0m                                Traceback (most recent call last)",
      "\u001b[1;32mc:\\Users\\Rem\\Documents\\Documents\\PhD\\Postgraduate Teaching Assistant\\Digital Finance 2023-2024\\New Code Repository\\workshops\\Workshop 1, Part 1.ipynb Cell 191\u001b[0m line \u001b[0;36m3\n\u001b[0;32m      <a href='vscode-notebook-cell:/c%3A/Users/Rem/Documents/Documents/PhD/Postgraduate%20Teaching%20Assistant/Digital%20Finance%202023-2024/New%20Code%20Repository/workshops/Workshop%201%2C%20Part%201.ipynb#Y426sZmlsZQ%3D%3D?line=0'>1</a>\u001b[0m x \u001b[39m=\u001b[39m \u001b[39m-\u001b[39m\u001b[39m40\u001b[39m\n\u001b[0;32m      <a href='vscode-notebook-cell:/c%3A/Users/Rem/Documents/Documents/PhD/Postgraduate%20Teaching%20Assistant/Digital%20Finance%202023-2024/New%20Code%20Repository/workshops/Workshop%201%2C%20Part%201.ipynb#Y426sZmlsZQ%3D%3D?line=1'>2</a>\u001b[0m \u001b[39mif\u001b[39;00m x\u001b[39m<\u001b[39m\u001b[39m0\u001b[39m:\n\u001b[1;32m----> <a href='vscode-notebook-cell:/c%3A/Users/Rem/Documents/Documents/PhD/Postgraduate%20Teaching%20Assistant/Digital%20Finance%202023-2024/New%20Code%20Repository/workshops/Workshop%201%2C%20Part%201.ipynb#Y426sZmlsZQ%3D%3D?line=2'>3</a>\u001b[0m     \u001b[39mraise\u001b[39;00m \u001b[39mValueError\u001b[39;00m(\u001b[39m\"\u001b[39m\u001b[39mThe value of x cannot be negative.\u001b[39m\u001b[39m\"\u001b[39m)\n",
      "\u001b[1;31mValueError\u001b[0m: The value of x cannot be negative."
     ]
    }
   ],
   "source": [
    "x = -40\n",
    "if x<0:\n",
    "    raise ValueError(\"The value of x cannot be negative.\")"
   ]
  },
  {
   "cell_type": "markdown",
   "metadata": {},
   "source": [
    "### 2.11.1 Error Handling\n",
    "\n",
    "Sometimes the code we write will raise exceptions that we expect. We can design our code around this by using `try` and `except` keywords.\n",
    "\n",
    "`try` keyword creates a block of code where we try to execute some command that raise exceptions. If an exception is not raised, the program will execute the code inside the `try` block. However, if the exception is raised, the code inside the `except` block will be executed."
   ]
  },
  {
   "cell_type": "code",
   "execution_count": 45,
   "metadata": {},
   "outputs": [
    {
     "name": "stdout",
     "output_type": "stream",
     "text": [
      "Hello from the except block!\n"
     ]
    }
   ],
   "source": [
    "x = 0\n",
    "try:\n",
    "    y = 20/x\n",
    "    print(\"y is: {}\".format(y))\n",
    "except:\n",
    "    print(\"Hello from the except block!\")"
   ]
  },
  {
   "cell_type": "markdown",
   "metadata": {},
   "source": [
    "However, a good practice is to specify the exceptions that you expect to occur inside the `try` block.\n",
    "\n",
    "Otherwise, we will neglect the bugs in our code that we would have encountered if not for the `try`-`except` blocks."
   ]
  },
  {
   "cell_type": "code",
   "execution_count": 46,
   "metadata": {},
   "outputs": [
    {
     "name": "stdout",
     "output_type": "stream",
     "text": [
      "Hello from the except block, but now we restrict what exceptions we allow in the try block.\n"
     ]
    }
   ],
   "source": [
    "some_string = \"hello\"\n",
    "some_float = 4.67\n",
    "try:\n",
    "    print(some_string+some_float)\n",
    "except (TypeError, ZeroDivisionError):\n",
    "    print(\"Hello from the except block, but now we restrict what exceptions we allow to occur in the try block.\")"
   ]
  },
  {
   "cell_type": "markdown",
   "metadata": {},
   "source": [
    "If we want to ensure that some code runs regardless of the errors occuring before, we can add `finally` block to do that."
   ]
  },
  {
   "cell_type": "code",
   "execution_count": 48,
   "metadata": {},
   "outputs": [
    {
     "name": "stdout",
     "output_type": "stream",
     "text": [
      "x is 0\n",
      "This code is executed no matter what errors occur in the try or except blocks.\n"
     ]
    }
   ],
   "source": [
    "x = 0\n",
    "try:\n",
    "    print(20/x)\n",
    "except ZeroDivisionError:\n",
    "    print(\"x is 0\")\n",
    "finally:\n",
    "    print(\"This code is executed no matter what errors occur in the try or except blocks.\")"
   ]
  },
  {
   "cell_type": "markdown",
   "metadata": {},
   "source": [
    "### 2.11.2 Exceptions and Error Handling: Exercises"
   ]
  },
  {
   "cell_type": "markdown",
   "metadata": {},
   "source": [
    "<div class=\"alert alert-warning\">\n",
    "<b>EXERCISE (23):</b>\n",
    "\n",
    "Write code that triggers ModuleNotFoundError.\n",
    "</div>"
   ]
  },
  {
   "cell_type": "code",
   "execution_count": 23,
   "metadata": {},
   "outputs": [],
   "source": [
    "# Solution"
   ]
  },
  {
   "cell_type": "markdown",
   "metadata": {},
   "source": [
    "<div class=\"alert alert-warning\">\n",
    "<b>EXERCISE (24):</b>\n",
    "\n",
    "Ask user for input and convert this input into integer value inside a try block, so that if the input cannot be converted to integer, the program will print \"Cannot convert to integer\".\n",
    "</div>"
   ]
  },
  {
   "cell_type": "code",
   "execution_count": 24,
   "metadata": {},
   "outputs": [],
   "source": [
    "# Solution"
   ]
  },
  {
   "cell_type": "markdown",
   "metadata": {},
   "source": [
    "## 2.12 Working with Files\n",
    "\n",
    "In **`Python`** we can access other files that exist on the computer to get data from them or edit them."
   ]
  },
  {
   "cell_type": "markdown",
   "metadata": {},
   "source": [
    "### 2.12.1 Working with Text Files\n",
    "\n",
    "One of the most basic file formats that is universally present on all modern operating systems are the text files.\n",
    "\n",
    "Text files use `.txt` file extension.\n",
    "\n",
    "To open text files with **`Python`** we use the `open()` function.\n",
    "\n",
    "Inside the `open()` function, we can specify what **mode** we want to use when working with the file:\n",
    "\n",
    "- `r` means open in read mode, which is the default.\n",
    "- `w` means open in write mode, which will delete all contents of the file and allow you to re-write the contents.\n",
    "- `a` means open in append mode, which allows you to add content at the end of the file.\n",
    "\n",
    "We can add `b` on the end of the mode (e.g., `rb`), which will open file in a binary mode. This is useful when working with non-text files (i.e., images, sound files).\n",
    "\n",
    "When we <mark>finished working</mark> with the file we <mark>close the file</mark>."
   ]
  },
  {
   "cell_type": "markdown",
   "metadata": {},
   "source": [
    "<br>\n",
    "<div class=\"alert alert-danger\">\n",
    "<b>WARNING: </b>Note that you have to specify the path to the directory (i.e., path to the folder) where the text file is located. By default open() function will try to find files in the current directory. If wrong path or directory is speficied, Python will create a new text file with the name provided.</div>"
   ]
  },
  {
   "cell_type": "code",
   "execution_count": 15,
   "metadata": {},
   "outputs": [],
   "source": [
    "# Example of opening file in write mode\n",
    "file = open(\"./test_text_file.txt\", \"w\")\n",
    "file.close()\n",
    "\n",
    "# Example of opening file in binary read mode\n",
    "file = open(\"./test_text_file.txt\", \"rb\")\n",
    "file.close()"
   ]
  },
  {
   "cell_type": "markdown",
   "metadata": {},
   "source": [
    "We can also read the contents of the file using the `.read()` method:"
   ]
  },
  {
   "cell_type": "code",
   "execution_count": 4,
   "metadata": {},
   "outputs": [
    {
     "name": "stdout",
     "output_type": "stream",
     "text": [
      "This file contains some content.\n",
      "There is more content in this file.\n"
     ]
    }
   ],
   "source": [
    "file = open(\"./static/test_text_file.txt\")\n",
    "content = file.read()\n",
    "print(content)\n",
    "file.close()"
   ]
  },
  {
   "cell_type": "markdown",
   "metadata": {},
   "source": [
    "We can also specify how much of the file we want to read by providing `__size` argument to the `.read()` method, which is the number of characters we want the `.read()` method to return.\n",
    "\n",
    "Note that spaces, tabs, and other special characters count as part of the `__size` argument."
   ]
  },
  {
   "cell_type": "code",
   "execution_count": 5,
   "metadata": {},
   "outputs": [
    {
     "name": "stdout",
     "output_type": "stream",
     "text": [
      "This file contai\n"
     ]
    }
   ],
   "source": [
    "file = open(\"./static/test_text_file.txt\")\n",
    "content = file.read(16)\n",
    "print(content)\n",
    "file.close()"
   ]
  },
  {
   "cell_type": "markdown",
   "metadata": {},
   "source": [
    "Another peculiarity of the `.read()` method is that once the file is open and we read certain portion of it, the next time we run `.read()` we will pick up from where we left off. If you want to reset the `.read()` method, you need to close the file and open it again."
   ]
  },
  {
   "cell_type": "code",
   "execution_count": 6,
   "metadata": {},
   "outputs": [
    {
     "name": "stdout",
     "output_type": "stream",
     "text": [
      "This file contai\n",
      "ns some content.\n"
     ]
    }
   ],
   "source": [
    "file = open(\"./static/test_text_file.txt\")\n",
    "content = file.read(16)\n",
    "print(content)\n",
    "content = file.read(16)\n",
    "print(content)\n",
    "file.close()"
   ]
  },
  {
   "cell_type": "markdown",
   "metadata": {},
   "source": [
    "We can also read text line by line using the `.readlines()` method, or by iteration over file using the `for` loop:"
   ]
  },
  {
   "cell_type": "code",
   "execution_count": 9,
   "metadata": {},
   "outputs": [
    {
     "name": "stdout",
     "output_type": "stream",
     "text": [
      "['This file contains some content.\\n', 'There is more content in this file.']\n",
      "\n",
      "\n",
      "This file contains some content.\n",
      "\n",
      "There is more content in this file.\n"
     ]
    }
   ],
   "source": [
    "# Example of reading file with .readlines()\n",
    "file = open(\"./static/test_text_file.txt\")\n",
    "content = file.readlines()\n",
    "print(content)\n",
    "file.close()\n",
    "\n",
    "print(\"\\n\")\n",
    "\n",
    "# Example of reading file with a for loop\n",
    "file = open(\"./static/test_text_file.txt\")\n",
    "for line in file:\n",
    "    print(line)\n",
    "file.close()"
   ]
  },
  {
   "cell_type": "markdown",
   "metadata": {},
   "source": [
    "We can write files using `.write()` method, given that we have opened file in the `w` mode:"
   ]
  },
  {
   "cell_type": "code",
   "execution_count": 11,
   "metadata": {},
   "outputs": [
    {
     "name": "stdout",
     "output_type": "stream",
     "text": [
      "This file has been re-written.\n"
     ]
    }
   ],
   "source": [
    "file = open(\"./static/test_text_file_w.txt\", \"w\")\n",
    "file.write(\"This file has been re-written.\")\n",
    "file.close()\n",
    "\n",
    "file = open(\"./static/test_text_file_w.txt\")\n",
    "content = file.read()\n",
    "print(content)\n",
    "file.close()"
   ]
  },
  {
   "cell_type": "markdown",
   "metadata": {},
   "source": [
    "<br>\n",
    "<div class=\"alert alert-danger\">\n",
    "<b>WARNING: </b>Openning files in \"w\" mode will delete all the existing content of the file.</div>"
   ]
  },
  {
   "cell_type": "markdown",
   "metadata": {},
   "source": [
    "### 2.12.2 Working with CSV Files\n",
    "\n",
    "Opening CSV files doesn't differ mush from opening text files. In **`Python`** it is more convenient to open CSV files in a module called **`Pandas`** as it will fill a dataframe with the date from the file. But, here we explore a more trivial approach.\n",
    "\n",
    "We use `reader()` function from `csv` module to help us parse the file's lines."
   ]
  },
  {
   "cell_type": "code",
   "execution_count": 17,
   "metadata": {},
   "outputs": [
    {
     "name": "stdout",
     "output_type": "stream",
     "text": [
      "Loaded data file ./static/pima-indians-diabetes.csv with 768 rows and 9 columns\n"
     ]
    }
   ],
   "source": [
    "from csv import reader\n",
    "\n",
    "# Function that loads data from a CSV file\n",
    "def load_csv(filename):\n",
    "    file = open(filename, \"r\")\n",
    "    lines = reader(file)\n",
    "    dataset = list(lines)\n",
    "    file.close()\n",
    "    return dataset\n",
    "\n",
    "filename = \"./static/pima-indians-diabetes.csv\"\n",
    "dataset = load_csv(filename)\n",
    "print(\"Loaded data file {0} with {1} rows and {2} columns\".format(filename, len(dataset), len(dataset[0])))"
   ]
  },
  {
   "cell_type": "markdown",
   "metadata": {},
   "source": [
    "# 3. Time Value of Money\n",
    "\n",
    "With the above preparations, we can write our own financial calculators.\n",
    "\n",
    "Thi first calculator we can write is for the future values. Recall the formula:\n",
    "\n",
    "$$\\text{Future Value} = \\text{Present Value}\\times(1+r)^{t}$$\n",
    "\n",
    "We can write this in **`Python`** as:"
   ]
  },
  {
   "cell_type": "code",
   "execution_count": 2,
   "metadata": {},
   "outputs": [],
   "source": [
    "def future_value(present_value, r, t):\n",
    "    return present_value*(1+r)**t"
   ]
  },
  {
   "cell_type": "markdown",
   "metadata": {},
   "source": [
    "To verify the function we can use an example:\n",
    "\n",
    "if we invest \\$100 at 10\\%, then by the end of 20 years, it will grow to \\$672.75"
   ]
  },
  {
   "cell_type": "code",
   "execution_count": 4,
   "metadata": {},
   "outputs": [
    {
     "name": "stdout",
     "output_type": "stream",
     "text": [
      "Result: 672.7499949325611\n",
      "Rounded result: 672.75\n"
     ]
    }
   ],
   "source": [
    "result = future_value(present_value=100, r=0.1, t=20)\n",
    "print(\"Result: {}\".format(result))\n",
    "print(\"Rounded result: {}\".format(round(result, 2)))"
   ]
  },
  {
   "cell_type": "markdown",
   "metadata": {},
   "source": [
    "## 3.1 Time Value of Money: Exercises"
   ]
  },
  {
   "cell_type": "markdown",
   "metadata": {},
   "source": [
    "<div class=\"alert alert-warning\">\n",
    "<b>EXERCISE (25):</b>\n",
    "\n",
    "Write your own function of <b>present value</b>. Once done, please verify it with the example: under a 7% compound rate, how much do you need to invest today to produce $114.49 at the end of the second year? The answer should be $100.\n",
    "</div>"
   ]
  },
  {
   "cell_type": "code",
   "execution_count": 25,
   "metadata": {},
   "outputs": [],
   "source": [
    "# Solution"
   ]
  },
  {
   "cell_type": "markdown",
   "metadata": {},
   "source": [
    "<div class=\"alert alert-warning\">\n",
    "<b>EXERCISE (26):</b>\n",
    "\n",
    "Write your calculator on the present value of <b>perpetuity</b>. Once done, please verify it with the example: you aim to provide $100 a year in perpetuity starting next year. If the interest rate is 10%, how much do you need to deposit today? The answer should be $1000.\n",
    "</div>"
   ]
  },
  {
   "cell_type": "code",
   "execution_count": 26,
   "metadata": {},
   "outputs": [],
   "source": [
    "# Solution"
   ]
  },
  {
   "cell_type": "markdown",
   "metadata": {},
   "source": [
    "<div class=\"alert alert-warning\">\n",
    "<b>EXERCISE (27):</b>\n",
    "\n",
    "Write your calculator on the present value of <strong>annuity</strong>. Once done, please verify it with the example: suppose you are on a car installment plan of $5,000 a year, paid at the end of each of the next five years. If the interest rate is 7%, what is the car really costing you? The answer should be $20,500.99 in 2 decimal places.\n",
    "</div>"
   ]
  },
  {
   "cell_type": "code",
   "execution_count": 27,
   "metadata": {},
   "outputs": [],
   "source": [
    "# Solution"
   ]
  },
  {
   "cell_type": "markdown",
   "metadata": {},
   "source": [
    "### 3.1.1  `NPV` Calculation\n",
    "\n",
    "The library **`numpy_financial`** built on top of **`NumPy`**, which we saw in the last lesson, contains many functions which will make your life much easier when working with financial values.\n",
    "\n",
    "For example, the  function `npv()`, with similar syntax to the function in **`MS Excel`**, allows you to calculate the present value of an investment with a few simple parameters:\n",
    "\n",
    "- `rate`: The rate of return of the investment\n",
    "- `nper`: The lifespan of the investment\n",
    "- `pmt`: The (fixed) payment at the beginning or end of each period (which is 0 in our example)\n",
    "- `fv`: The future value of the investment\n",
    "\n",
    "You can use this formula in many ways. For example, you can calculate the present value of future investments in today's currency.\n"
   ]
  },
  {
   "cell_type": "code",
   "execution_count": null,
   "metadata": {},
   "outputs": [
    {
     "name": "stdout",
     "output_type": "stream",
     "text": [
      "NPV value with rate  0.2  is:  -0.04179526748963269\n"
     ]
    }
   ],
   "source": [
    "import numpy_financial as npf\n",
    "\n",
    "# Declaring values\n",
    "cashflows = [-500, 200, 147, 128, 130, 235]\n",
    "rate = 0.20\n",
    "\n",
    "# Printing NPV Values\n",
    "print(\"NPV value with rate \", rate, \" is: \", npf.npv(rate, cashflows))"
   ]
  },
  {
   "cell_type": "markdown",
   "metadata": {},
   "source": [
    "<div class=\"alert alert-warning\">\n",
    "<b>EXERCISE (3):</b>\n",
    "\n",
    "An investment of **£100** generates after-tax cash flows of **£40** in **Year 1**, **£80** in **Year 2**, and **£120** in **Year 3**. The required rate of return is **20%**. The net present value is closest to:\n",
    "\n",
    "- A £42.22.\n",
    "- B £58.33.\n",
    "- C £68.52.\n",
    "</div>"
   ]
  },
  {
   "cell_type": "code",
   "execution_count": 1,
   "metadata": {},
   "outputs": [],
   "source": [
    "# Solution"
   ]
  },
  {
   "cell_type": "markdown",
   "metadata": {},
   "source": [
    "### 3.1.2  `IRR` calculation\n",
    "The **Internal Rate of Return** is the discount rate that makes the **Net Present Value (NPV)** of a project zero. To compare differente projects and decide over which to take, their cash flow projections are used to calculate the IRR to find the most beneficial for you in terms of yield (rate of return).\n",
    "\n",
    "To calculate the internal rate of return for each project, you can use `irr()` where values are a `numpy.ndarray` of the cash flows for a project."
   ]
  },
  {
   "cell_type": "code",
   "execution_count": null,
   "metadata": {},
   "outputs": [
    {
     "name": "stdout",
     "output_type": "stream",
     "text": [
      "IRR value with five terms is  0.19996\n"
     ]
    }
   ],
   "source": [
    "cashflows       = [-500, 200, 147, 128, 130, 235]\n",
    "irr =  round(npf.irr(cashflows),5)\n",
    "#Printing IRR Values\n",
    "print(\"IRR value with five terms is \", irr)"
   ]
  },
  {
   "cell_type": "markdown",
   "metadata": {},
   "source": [
    "<div class=\"alert alert-warning\">\n",
    "<b>EXERCISE (4):</b>\n",
    "\n",
    "A three-year investment requires an initial outlay of **£1,000**. It is expected to provide **three year-end** cash flows of **£200** plus a net salvage value of **£700** at the **end of three years**. Its internal rate of return is closest to:\n",
    "\n",
    "- A 10%\n",
    "- B 11%\n",
    "- C 20%\n",
    "</div>"
   ]
  },
  {
   "cell_type": "code",
   "execution_count": 2,
   "metadata": {},
   "outputs": [],
   "source": [
    "# Solution"
   ]
  },
  {
   "cell_type": "markdown",
   "metadata": {},
   "source": [
    "## 3.2 Time Value of Money: Additional Exercises"
   ]
  },
  {
   "cell_type": "markdown",
   "metadata": {},
   "source": [
    "<div class=\"alert alert-warning\">\n",
    "<b>EXERCISE: Periodic & Continuous convergence</b>\n",
    "\n",
    "Create a function <b>future_value_periodic</b> taking the compounding frequency <i>m</i> and present value <i>present_value</i>, to calculate the future value of a 1 year bond with a 1 year interest <i>r</i>. Make sure the function <b>future_value_periodic</b> takes parameters (m, present_value, r) in this specific order.\n",
    "</div>"
   ]
  },
  {
   "cell_type": "code",
   "execution_count": 28,
   "metadata": {},
   "outputs": [],
   "source": [
    "# Solution"
   ]
  },
  {
   "cell_type": "markdown",
   "metadata": {},
   "source": [
    "If the above function is correctly coded, the plot below should show the calculated future value.\n",
    "\n",
    "As the compounding frequency increases, the calculated future value will tend to the future value of continuously compounded bond with the same interest over a year."
   ]
  },
  {
   "cell_type": "code",
   "execution_count": 2,
   "metadata": {},
   "outputs": [
    {
     "data": {
      "image/png": "[encoded data removed]",
      "text/plain": [
       "<Figure size 640x480 with 1 Axes>"
      ]
     },
     "metadata": {},
     "output_type": "display_data"
    }
   ],
   "source": [
    "#Do not edit, run this to see result.\n",
    "from math import e as eulers_num\n",
    "import matplotlib.pyplot as plt\n",
    "\n",
    "x = range(1, 100)\n",
    "pv = 10\n",
    "r = 0.05\n",
    "periodic = [future_value_periodic(i, pv, r) for i in x]\n",
    "\n",
    "plt.axhline(pv*eulers_num**(r), color='r', linestyle='--', label= 'Continous compounding')\n",
    "plt.plot(x,periodic, label = 'Periodic compounding')\n",
    "plt.xlabel('Compounding frequency')\n",
    "plt.ylabel('Future value')\n",
    "plt.title('Plot showing the convergence to continuous compounding as compounding freqency increases')\n",
    "plt.legend()\n",
    "plt.show()"
   ]
  },
  {
   "cell_type": "markdown",
   "metadata": {},
   "source": [
    "<div class=\"alert alert-warning\">\n",
    "<b>EXERCISE: Approximating bond price via Taylor series</b>\n",
    "\n",
    "Given the Taylor series expansion for changes in bond price with respect to changes in bond yield:\n",
    "\n",
    "$$\\Delta B = \\frac{dB}{dy}\\Delta y + \\frac{1}{2}\\frac{d^2B}{dy^2}(\\Delta y)^2$$\n",
    "<br>\n",
    "\n",
    "Define a function, <b>approx_bond</b>, taking the parameters current price, duration and convexity of a bond to approximate a future bond price given a change in yield $\\Delta y$ ($\\Delta y$ need also be a parameter).\n",
    "<br>\n",
    "\n",
    "If the current bond price is £100, what is the approximate price of the bond given a Duration of 0.1, Convexity of 0.3 and change of yield of 1? \n",
    "<br>\n",
    "The answer should be £105.\n",
    "</div>"
   ]
  },
  {
   "cell_type": "markdown",
   "metadata": {},
   "source": [
    "<div class=\"alert alert-info\">\n",
    "<b>HINT:</b>\n",
    "\n",
    "The Greek **Delta** $\\Delta$ is often used in mathematics to show changes in value from a previous time step to the current time step.\n",
    "$$\\Delta B_t = B_{t} - B_{t-1}$$\n",
    "\n",
    "</div>\n",
    "\n"
   ]
  },
  {
   "cell_type": "code",
   "execution_count": 29,
   "metadata": {},
   "outputs": [],
   "source": [
    "# Solution"
   ]
  },
  {
   "cell_type": "markdown",
   "metadata": {},
   "source": [
    "# Credits\n",
    "\n",
    "An introduction to Python Programming for Research, UCL, 2017, James Hetherington [here:](http://rits.github-pages.ucl.ac.uk/doctoral-programming-intro/notes.pdf)\n",
    "\n",
    "A Primer on Scientific Programming with Python, 4th Edition, 2014, Hans Petter Langtangen \n",
    "Resurces [here:](http://hplgit.github.io/scipro-primer/)\n",
    "\n",
    "[Python's documentation](https://docs.python.org/3/)\n",
    "\n",
    "IBM Cognitive class content released under the terms of the [MIT License]\n",
    "\n",
    "Walter Hernandez Cruz"
   ]
  },
  {
   "cell_type": "markdown",
   "metadata": {},
   "source": []
  }
 ],
 "metadata": {
  "kernelspec": {
   "display_name": ".venv",
   "language": "python",
   "name": "python3"
  },
  "language_info": {
   "codemirror_mode": {
    "name": "ipython",
    "version": 3
   },
   "file_extension": ".py",
   "mimetype": "text/x-python",
   "name": "python",
   "nbconvert_exporter": "python",
   "pygments_lexer": "ipython3",
   "version": "3.11.1"
  },
  "orig_nbformat": 4
 },
 "nbformat": 4,
 "nbformat_minor": 2
}
