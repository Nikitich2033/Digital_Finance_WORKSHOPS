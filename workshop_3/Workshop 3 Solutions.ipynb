version https://git-lfs.github.com/spec/v1
oid sha256:68421c0b4ea2d7f5d4173e3cf89822d8aba396b97eec6ea9cd05965fcb705c06
size 1233627
