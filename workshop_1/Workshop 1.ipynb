version https://git-lfs.github.com/spec/v1
oid sha256:8137317142d37e731754a18ea76f338d49063ad2615e5b332d97432adc8f66a0
size 185493
